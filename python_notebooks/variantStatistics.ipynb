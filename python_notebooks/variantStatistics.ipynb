{
 "cells": [
  {
   "cell_type": "markdown",
   "metadata": {},
   "source": [
    "### Initialize the client\n",
    "\n",
    "As seen in the \"1kg.ipynb\" example, we take the following steps to create the client object that will be used to obtain the information we desire and query the serever"
   ]
  },
  {
   "cell_type": "code",
   "execution_count": 37,
   "metadata": {
    "collapsed": true
   },
   "outputs": [],
   "source": [
    "import ga4gh.client as client\n",
    "import matplotlib as plt\n",
    "c = client.HttpClient(\"http://1kgenomes.ga4gh.org\")"
   ]
  },
  {
   "cell_type": "markdown",
   "metadata": {},
   "source": [
    "### Make reference to the data from the server\n",
    "\n",
    "We query the server for the dataset, which is the 1k-genomes dataset.\n",
    "We follow to access the bases of reference. So to access it we first list the reference sets."
   ]
  },
  {
   "cell_type": "code",
   "execution_count": 50,
   "metadata": {
    "collapsed": false
   },
   "outputs": [
    {
     "name": "stdout",
     "output_type": "stream",
     "text": [
      "VariantSet({\"name\": \"functional_annotation\", \"referenceSetId\": \"WyJOQ0JJMzciXQ\", \"id\": \"WyIxa2dlbm9tZXMiLCJ2cyIsImZ1bmN0aW9uYWxfYW5ub3RhdGlvbiJd\", \"datasetId\": \"WyIxa2dlbm9tZXMiXQ\", \"metadata\": [{\"info\": {}, \"description\": \"\", \"number\": \"1\", \"value\": \"VCFv4.1\", \"key\": \"version\", \"type\": \"String\", \"id\": \"WyIxa2dlbm9tZXMiLCJ2cyIsImZ1bmN0aW9uYWxfYW5ub3RhdGlvbiIsIm1ldGFkYXRhOnZlcnNpb24iXQ\"}, {\"info\": {}, \"description\": \"Confidence interval around END for imprecise variants\", \"number\": \"2\", \"value\": \"\", \"key\": \"INFO.CIEND\", \"type\": \"Integer\", \"id\": \"WyIxa2dlbm9tZXMiLCJ2cyIsImZ1bmN0aW9uYWxfYW5ub3RhdGlvbiIsIm1ldGFkYXRhOklORk8uQ0lFTkQiXQ\"}, {\"info\": {}, \"description\": \"Confidence interval around POS for imprecise variants\", \"number\": \"2\", \"value\": \"\", \"key\": \"INFO.CIPOS\", \"type\": \"Integer\", \"id\": \"WyIxa2dlbm9tZXMiLCJ2cyIsImZ1bmN0aW9uYWxfYW5ub3RhdGlvbiIsIm1ldGFkYXRhOklORk8uQ0lQT1MiXQ\"}, {\"info\": {}, \"description\": \"Source call set.\", \"number\": \"1\", \"value\": \"\", \"key\": \"INFO.CS\", \"type\": \"String\", \"id\": \"WyIxa2dlbm9tZXMiLCJ2cyIsImZ1bmN0aW9uYWxfYW5ub3RhdGlvbiIsIm1ldGFkYXRhOklORk8uQ1MiXQ\"}, {\"info\": {}, \"description\": \"End coordinate of this variant\", \"number\": \"1\", \"value\": \"\", \"key\": \"INFO.END\", \"type\": \"Integer\", \"id\": \"WyIxa2dlbm9tZXMiLCJ2cyIsImZ1bmN0aW9uYWxfYW5ub3RhdGlvbiIsIm1ldGFkYXRhOklORk8uRU5EIl0\"}, {\"info\": {}, \"description\": \"Imprecise structural variation\", \"number\": \"0\", \"value\": \"\", \"key\": \"INFO.IMPRECISE\", \"type\": \"Flag\", \"id\": \"WyIxa2dlbm9tZXMiLCJ2cyIsImZ1bmN0aW9uYWxfYW5ub3RhdGlvbiIsIm1ldGFkYXRhOklORk8uSU1QUkVDSVNFIl0\"}, {\"info\": {}, \"description\": \"Merged calls.\", \"number\": \".\", \"value\": \"\", \"key\": \"INFO.MC\", \"type\": \"String\", \"id\": \"WyIxa2dlbm9tZXMiLCJ2cyIsImZ1bmN0aW9uYWxfYW5ub3RhdGlvbiIsIm1ldGFkYXRhOklORk8uTUMiXQ\"}, {\"info\": {}, \"description\": \"Mobile element info of the form NAME,START,END<POLARITY; If there is only 5' OR 3' support for this call, will be NULL NULL for START and END\", \"number\": \"4\", \"value\": \"\", \"key\": \"INFO.MEINFO\", \"type\": \"String\", \"id\": \"WyIxa2dlbm9tZXMiLCJ2cyIsImZ1bmN0aW9uYWxfYW5ub3RhdGlvbiIsIm1ldGFkYXRhOklORk8uTUVJTkZPIl0\"}, {\"info\": {}, \"description\": \"Mitochondrial end coordinate of inserted sequence\", \"number\": \"1\", \"value\": \"\", \"key\": \"INFO.MEND\", \"type\": \"Integer\", \"id\": \"WyIxa2dlbm9tZXMiLCJ2cyIsImZ1bmN0aW9uYWxfYW5ub3RhdGlvbiIsIm1ldGFkYXRhOklORk8uTUVORCJd\"}, {\"info\": {}, \"description\": \"Estimated length of mitochondrial insert\", \"number\": \"1\", \"value\": \"\", \"key\": \"INFO.MLEN\", \"type\": \"Integer\", \"id\": \"WyIxa2dlbm9tZXMiLCJ2cyIsImZ1bmN0aW9uYWxfYW5ub3RhdGlvbiIsIm1ldGFkYXRhOklORk8uTUxFTiJd\"}, {\"info\": {}, \"description\": \"Mitochondrial start coordinate of inserted sequence\", \"number\": \"1\", \"value\": \"\", \"key\": \"INFO.MSTART\", \"type\": \"Integer\", \"id\": \"WyIxa2dlbm9tZXMiLCJ2cyIsImZ1bmN0aW9uYWxfYW5ub3RhdGlvbiIsIm1ldGFkYXRhOklORk8uTVNUQVJUIl0\"}, {\"info\": {}, \"description\": \"Difference in length between REF and ALT alleles\", \"number\": \".\", \"value\": \"\", \"key\": \"INFO.SVLEN\", \"type\": \"Integer\", \"id\": \"WyIxa2dlbm9tZXMiLCJ2cyIsImZ1bmN0aW9uYWxfYW5ub3RhdGlvbiIsIm1ldGFkYXRhOklORk8uU1ZMRU4iXQ\"}, {\"info\": {}, \"description\": \"Type of structural variant\", \"number\": \"1\", \"value\": \"\", \"key\": \"INFO.SVTYPE\", \"type\": \"String\", \"id\": \"WyIxa2dlbm9tZXMiLCJ2cyIsImZ1bmN0aW9uYWxfYW5ub3RhdGlvbiIsIm1ldGFkYXRhOklORk8uU1ZUWVBFIl0\"}, {\"info\": {}, \"description\": \"Precise Target Site Duplication for bases, if unknown, value will be NULL\", \"number\": \"1\", \"value\": \"\", \"key\": \"INFO.TSD\", \"type\": \"String\", \"id\": \"WyIxa2dlbm9tZXMiLCJ2cyIsImZ1bmN0aW9uYWxfYW5ub3RhdGlvbiIsIm1ldGFkYXRhOklORk8uVFNEIl0\"}, {\"info\": {}, \"description\": \"Total number of alternate alleles in called genotypes\", \"number\": \"A\", \"value\": \"\", \"key\": \"INFO.AC\", \"type\": \"Integer\", \"id\": \"WyIxa2dlbm9tZXMiLCJ2cyIsImZ1bmN0aW9uYWxfYW5ub3RhdGlvbiIsIm1ldGFkYXRhOklORk8uQUMiXQ\"}, {\"info\": {}, \"description\": \"Estimated allele frequency in the range (0,1)\", \"number\": \"A\", \"value\": \"\", \"key\": \"INFO.AF\", \"type\": \"Float\", \"id\": \"WyIxa2dlbm9tZXMiLCJ2cyIsImZ1bmN0aW9uYWxfYW5ub3RhdGlvbiIsIm1ldGFkYXRhOklORk8uQUYiXQ\"}, {\"info\": {}, \"description\": \"Number of samples with data\", \"number\": \"1\", \"value\": \"\", \"key\": \"INFO.NS\", \"type\": \"Integer\", \"id\": \"WyIxa2dlbm9tZXMiLCJ2cyIsImZ1bmN0aW9uYWxfYW5ub3RhdGlvbiIsIm1ldGFkYXRhOklORk8uTlMiXQ\"}, {\"info\": {}, \"description\": \"Total number of alleles in called genotypes\", \"number\": \"1\", \"value\": \"\", \"key\": \"INFO.AN\", \"type\": \"Integer\", \"id\": \"WyIxa2dlbm9tZXMiLCJ2cyIsImZ1bmN0aW9uYWxfYW5ub3RhdGlvbiIsIm1ldGFkYXRhOklORk8uQU4iXQ\"}, {\"info\": {}, \"description\": \"Allele frequency in the EAS populations calculated from AC and AN, in the range (0,1)\", \"number\": \"A\", \"value\": \"\", \"key\": \"INFO.EAS_AF\", \"type\": \"Float\", \"id\": \"WyIxa2dlbm9tZXMiLCJ2cyIsImZ1bmN0aW9uYWxfYW5ub3RhdGlvbiIsIm1ldGFkYXRhOklORk8uRUFTX0FGIl0\"}, {\"info\": {}, \"description\": \"Allele frequency in the EUR populations calculated from AC and AN, in the range (0,1)\", \"number\": \"A\", \"value\": \"\", \"key\": \"INFO.EUR_AF\", \"type\": \"Float\", \"id\": \"WyIxa2dlbm9tZXMiLCJ2cyIsImZ1bmN0aW9uYWxfYW5ub3RhdGlvbiIsIm1ldGFkYXRhOklORk8uRVVSX0FGIl0\"}, {\"info\": {}, \"description\": \"Allele frequency in the AFR populations calculated from AC and AN, in the range (0,1)\", \"number\": \"A\", \"value\": \"\", \"key\": \"INFO.AFR_AF\", \"type\": \"Float\", \"id\": \"WyIxa2dlbm9tZXMiLCJ2cyIsImZ1bmN0aW9uYWxfYW5ub3RhdGlvbiIsIm1ldGFkYXRhOklORk8uQUZSX0FGIl0\"}, {\"info\": {}, \"description\": \"Allele frequency in the AMR populations calculated from AC and AN, in the range (0,1)\", \"number\": \"A\", \"value\": \"\", \"key\": \"INFO.AMR_AF\", \"type\": \"Float\", \"id\": \"WyIxa2dlbm9tZXMiLCJ2cyIsImZ1bmN0aW9uYWxfYW5ub3RhdGlvbiIsIm1ldGFkYXRhOklORk8uQU1SX0FGIl0\"}, {\"info\": {}, \"description\": \"Allele frequency in the SAS populations calculated from AC and AN, in the range (0,1)\", \"number\": \"A\", \"value\": \"\", \"key\": \"INFO.SAS_AF\", \"type\": \"Float\", \"id\": \"WyIxa2dlbm9tZXMiLCJ2cyIsImZ1bmN0aW9uYWxfYW5ub3RhdGlvbiIsIm1ldGFkYXRhOklORk8uU0FTX0FGIl0\"}, {\"info\": {}, \"description\": \"Total read depth\", \"number\": \"1\", \"value\": \"\", \"key\": \"INFO.DP\", \"type\": \"Integer\", \"id\": \"WyIxa2dlbm9tZXMiLCJ2cyIsImZ1bmN0aW9uYWxfYW5ub3RhdGlvbiIsIm1ldGFkYXRhOklORk8uRFAiXQ\"}, {\"info\": {}, \"description\": \"Ancestral Allele. Format: AA|REF|ALT|IndelType. AA: Ancestral allele, REF:Reference Allele, ALT:Alternate Allele, IndelType:Type of Indel (REF, ALT and IndelType are only defined for indels)\", \"number\": \"1\", \"value\": \"\", \"key\": \"INFO.AA\", \"type\": \"String\", \"id\": \"WyIxa2dlbm9tZXMiLCJ2cyIsImZ1bmN0aW9uYWxfYW5ub3RhdGlvbiIsIm1ldGFkYXRhOklORk8uQUEiXQ\"}, {\"info\": {}, \"description\": \"Consequence type as predicted by VEP WITH -PICK_ALLELE parameter. Format: Allele|Gene|Feature|Feature_type|Consequence|cDNA_position|CDS_position|Protein_position|Amino_acids|Codons|Existing_variation|DISTANCE|STRAND|SIFT|PolyPhen|MOTIF_NAME|MOTIF_POS|HIGH_INF_POS|MOTIF_SCORE_CHANGE\", \"number\": \".\", \"value\": \"\", \"key\": \"INFO.CSQ\", \"type\": \"String\", \"id\": \"WyIxa2dlbm9tZXMiLCJ2cyIsImZ1bmN0aW9uYWxfYW5ub3RhdGlvbiIsIm1ldGFkYXRhOklORk8uQ1NRIl0\"}, {\"info\": {}, \"description\": \"The annotation of coding variants and splice site variants\", \"number\": \".\", \"value\": \"\", \"key\": \"INFO.GENCODE\", \"type\": \"String\", \"id\": \"WyIxa2dlbm9tZXMiLCJ2cyIsImZ1bmN0aW9uYWxfYW5ub3RhdGlvbiIsIm1ldGFkYXRhOklORk8uR0VOQ09ERSJd\"}, {\"info\": {}, \"description\": \"The Annotation Of Loss-of-Function Transcripts, provides extensive functional annotations to loss-of-function variants in the human genome, https://github.com/gersteinlab/aloft\", \"number\": \"A\", \"value\": \"\", \"key\": \"INFO.ALOFT\", \"type\": \"String\", \"id\": \"WyIxa2dlbm9tZXMiLCJ2cyIsImZ1bmN0aW9uYWxfYW5ub3RhdGlvbiIsIm1ldGFkYXRhOklORk8uQUxPRlQiXQ\"}, {\"info\": {}, \"description\": \"Predicted as phosphorylation sites by Phosphosite.org. Format: Uniprot Identifier of phosphorylated protein|Position in Uniprot sequence of phosphorylation site|Number of low throughput experiments this site has been seen in|Number of high throughput experiments this site has been seen in\", \"number\": \"A\", \"value\": \"\", \"key\": \"INFO.PHOSPHORYLATION\", \"type\": \"String\", \"id\": \"WyIxa2dlbm9tZXMiLCJ2cyIsImZ1bmN0aW9uYWxfYW5ub3RhdGlvbiIsIm1ldGFkYXRhOklORk8uUEhPU1BIT1JZTEFUSU9OIl0\"}, {\"info\": {}, \"description\": \"Ensembl Regulatory Build. Format: Allele|Gene|Feature|Feature_type|Consequence\", \"number\": \".\", \"value\": \"\", \"key\": \"INFO.ERB\", \"type\": \"String\", \"id\": \"WyIxa2dlbm9tZXMiLCJ2cyIsImZ1bmN0aW9uYWxfYW5ub3RhdGlvbiIsIm1ldGFkYXRhOklORk8uRVJCIl0\"}, {\"info\": {}, \"description\": \"The Super population with the higher derived allele frequency for the highD site\", \"number\": \".\", \"value\": \"\", \"key\": \"INFO.HighD\", \"type\": \"String\", \"id\": \"WyIxa2dlbm9tZXMiLCJ2cyIsImZ1bmN0aW9uYWxfYW5ub3RhdGlvbiIsIm1ldGFkYXRhOklORk8uSGlnaEQiXQ\"}, {\"info\": {}, \"description\": \"FunSeq score for noncoding SNV\", \"number\": \"A\", \"value\": \"\", \"key\": \"INFO.FUNSEQ\", \"type\": \"Float\", \"id\": \"WyIxa2dlbm9tZXMiLCJ2cyIsImZ1bmN0aW9uYWxfYW5ub3RhdGlvbiIsIm1ldGFkYXRhOklORk8uRlVOU0VRIl0\"}]})\n",
      "WyIxa2dlbm9tZXMiLCJ2cyIsImZ1bmN0aW9uYWxfYW5ub3RhdGlvbiIsImZ1bmN0aW9uYWxfYW5ub3RhdGlvbiJd\n"
     ]
    }
   ],
   "source": [
    "dataset = c.searchDatasets().next()\n",
    "\n",
    "for variantSet in c.searchVariantSets(dataset.id):\n",
    "    if variantSet.name == \"functional_annotation\":\n",
    "        annotation = variantSet\n",
    "\n",
    "print(annotation)\n",
    "\n",
    "annotationSet = c.searchVariantAnnotationSets(variantSetId=annotation.id).next()\n",
    "\n",
    "print(annotationSet.id)\n",
    "\n",
    "\n"
   ]
  },
  {
   "cell_type": "code",
   "execution_count": 11,
   "metadata": {
    "collapsed": false
   },
   "outputs": [
    {
     "ename": "SyntaxError",
     "evalue": "invalid syntax (<ipython-input-11-dcb771567dbb>, line 3)",
     "output_type": "error",
     "traceback": [
      "\u001b[0;36m  File \u001b[0;32m\"<ipython-input-11-dcb771567dbb>\"\u001b[0;36m, line \u001b[0;32m3\u001b[0m\n\u001b[0;31m    for annotation in searchVariantAnnotations(annotationSetId, chrom, start, end)\u001b[0m\n\u001b[0m                                                                                  ^\u001b[0m\n\u001b[0;31mSyntaxError\u001b[0m\u001b[0;31m:\u001b[0m invalid syntax\n"
     ]
    }
   ],
   "source": [
    "def summarizeAnnotations(annotationSetId=None, start=None, end=None, chrom=None):\n",
    "  termCount = {}\n",
    "  for annotation in searchVariantAnnotations(annotationSetId, chrom, start, end):\n",
    "    for eff in annotation.transcriptEffects:\n",
    "      for term in eff.effects:\n",
    "        termCount[term] += 1\n",
    "  return termCount"
   ]
  },
  {
   "cell_type": "code",
   "execution_count": 51,
   "metadata": {
    "collapsed": false
   },
   "outputs": [
    {
     "ename": "NameError",
     "evalue": "name 'summarizeAnnotations' is not defined",
     "output_type": "error",
     "traceback": [
      "\u001b[0;31m---------------------------------------------------------------------------\u001b[0m",
      "\u001b[0;31mNameError\u001b[0m                                 Traceback (most recent call last)",
      "\u001b[0;32m<ipython-input-51-4ceb623cd5f9>\u001b[0m in \u001b[0;36m<module>\u001b[0;34m()\u001b[0m\n\u001b[0;32m----> 1\u001b[0;31m \u001b[0;32mprint\u001b[0m\u001b[0;34m(\u001b[0m\u001b[0msummarizeAnnotations\u001b[0m\u001b[0;34m(\u001b[0m\u001b[0mannotationSet\u001b[0m\u001b[0;34m.\u001b[0m\u001b[0mid\u001b[0m\u001b[0;34m,\u001b[0m\u001b[0mstart\u001b[0m\u001b[0;34m=\u001b[0m\u001b[0;36m10000\u001b[0m\u001b[0;34m,\u001b[0m\u001b[0mend\u001b[0m\u001b[0;34m=\u001b[0m\u001b[0;36m12000\u001b[0m\u001b[0;34m,\u001b[0m\u001b[0mreferenceName\u001b[0m\u001b[0;34m=\u001b[0m\u001b[0;34m\"1\"\u001b[0m\u001b[0;34m)\u001b[0m\u001b[0;34m)\u001b[0m\u001b[0;34m\u001b[0m\u001b[0m\n\u001b[0m",
      "\u001b[0;31mNameError\u001b[0m: name 'summarizeAnnotations' is not defined"
     ]
    }
   ],
   "source": [
    "print(summarizeAnnotations(annotationSet.id,start=10000,end=12000,referenceName=\"1\"))"
   ]
  },
  {
   "cell_type": "code",
   "execution_count": null,
   "metadata": {
    "collapsed": true
   },
   "outputs": [],
   "source": []
  }
 ],
 "metadata": {
  "kernelspec": {
   "display_name": "Python 2",
   "language": "python",
   "name": "python2"
  },
  "language_info": {
   "codemirror_mode": {
    "name": "ipython",
    "version": 2
   },
   "file_extension": ".py",
   "mimetype": "text/x-python",
   "name": "python",
   "nbconvert_exporter": "python",
   "pygments_lexer": "ipython2",
   "version": "2.7.11"
  }
 },
 "nbformat": 4,
 "nbformat_minor": 0
}
