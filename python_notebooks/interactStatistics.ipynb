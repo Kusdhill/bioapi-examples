{
 "cells": [
  {
   "cell_type": "markdown",
   "metadata": {},
   "source": [
    "### Initialize the client\n",
    "\n",
    "As seen in the \"1kg.ipynb\" example, we take the following steps to create the client object that will be used to obtain the information we desire and query the server. Plotting tools are also imported here."
   ]
  },
  {
   "cell_type": "code",
   "execution_count": 41,
   "metadata": {
    "collapsed": false
   },
   "outputs": [],
   "source": [
    "import ga4gh.client as client\n",
    "c = client.HttpClient(\"http://1kgenomes.ga4gh.org\")\n",
    "\n",
    "import collections\n",
    "%matplotlib inline\n",
    "import matplotlib\n",
    "import numpy as np\n",
    "import matplotlib.pyplot as plt\n",
    "\n",
    "from __future__ import print_function\n",
    "from ipywidgets import interact, interactive, fixed\n",
    "import ipywidgets as widgets"
   ]
  },
  {
   "cell_type": "markdown",
   "metadata": {},
   "source": [
    "### Acquiring annotation set\n",
    "\n",
    "We query the server for the dataset, which is the 1k-genomes dataset. The dataset has a unique ID that can be used to acquire each variant set within the dataset. \n",
    "\n",
    "To access the different kinds of annotations, we access the annotation set using the unique variant set ID."
   ]
  },
  {
   "cell_type": "code",
   "execution_count": 42,
   "metadata": {
    "collapsed": false,
    "scrolled": false
   },
   "outputs": [],
   "source": [
    "dataset = c.searchDatasets().next()\n",
    "\n",
    "for variantSet in c.searchVariantSets(dataset.id):\n",
    "    #print(variantSet)\n",
    "    if variantSet.name == \"functional-annotation\":\n",
    "        annotation = variantSet\n",
    "\n",
    "annotationSet = c.searchVariantAnnotationSets(variantSetId=annotation.id).next()"
   ]
  },
  {
   "cell_type": "markdown",
   "metadata": {},
   "source": [
    "### Summarizing and storing annotation statistics\n",
    "\n",
    "This function lists and counts the different kinds of <a href=\"https://en.wikipedia.org/wiki/Bioinformatics#Genome_annotation\" target=\"_blank\">annotations</a> in the DNA sequence.\n",
    "\n",
    "These statistics are passed onto the graphing function, plotStatistics, in order to be graphed into different visual representations of the data."
   ]
  },
  {
   "cell_type": "code",
   "execution_count": 43,
   "metadata": {
    "collapsed": false
   },
   "outputs": [],
   "source": [
    "def summarizeAnnotations(annotationSetId=None, start=None, end=None, chrom=None):\n",
    "    termsAndCounts = collections.OrderedDict()\n",
    "    grandTotal = {}\n",
    "    typesOfAnnotations = 0\n",
    "    totalAnnotations = 0\n",
    "    \n",
    "    # The series of loops add the type of annotation (term.term) and the count of how many of this specific\n",
    "    # type of annotation are in the sequnce into the termsAndCounts dictionary.\n",
    "    for annotation in c.searchVariantAnnotations(annotationSetId, start=start, end=end, referenceName=chrom):\n",
    "        for eff in annotation.transcript_effects:\n",
    "            for term in eff.effects:\n",
    "                if term.term in termsAndCounts:\n",
    "                    termsAndCounts[term.term]['count'] += 1\n",
    "                    totalAnnotations += 1\n",
    "                else:\n",
    "                    termsAndCounts[term.term] = {}\n",
    "                    termsAndCounts[term.term]['count'] = 1\n",
    "                    totalAnnotations +=1\n",
    "    \n",
    "    for items in termsAndCounts:\n",
    "        typesOfAnnotations += 1\n",
    "    \n",
    "    # The final set of statistics in the dictionary are the count of how many unique annotations there are in the\n",
    "    # sequence and the grand total of annotations in the sequence.\n",
    "    grandTotal['statistics'] = {}\n",
    "    grandTotal['statistics']['types_of_annotations'] = typesOfAnnotations\n",
    "    grandTotal['statistics']['total_annotations'   ] = totalAnnotations\n",
    "    \n",
    "    #print(termsAndCounts.items)\n",
    "    orderedTermsAndCounts = collections.OrderedDict(sorted(termsAndCounts.items(), None, lambda x: x[1]['count']))\n",
    "    #print(\"termsAndCounts = \",termsAndCounts)\n",
    "    #print(\"grandTotal = \",grandTotal)\n",
    "    #print(\"orderedTermsAndCounts = \",orderedTermsAndCounts)\n",
    "    plotHistogram(orderedTermsAndCounts)"
   ]
  },
  {
   "cell_type": "markdown",
   "metadata": {},
   "source": [
    "### Plotting statistics and making a histogram\n",
    "\n",
    "This function creates x/y-axis information based on the annotation data (the annotation terms and counts). It stores the data in specific way so that matplotlib can interpret it. After the data is organized, a histogram is made."
   ]
  },
  {
   "cell_type": "code",
   "execution_count": 44,
   "metadata": {
    "collapsed": false
   },
   "outputs": [],
   "source": [
    "def plotHistogram(annotationData):\n",
    "    \n",
    "    xValues = [None]*(len(annotationData)+1)\n",
    "    yValues = [None]*(len(annotationData)+1)\n",
    "    \n",
    "    i=0\n",
    "    j=0\n",
    "    for items in annotationData:\n",
    "        for counts in annotationData[items]:\n",
    "            xValues[i] = items\n",
    "            yValues[i] = annotationData[items][counts]\n",
    "            i+=1\n",
    "        \n",
    "    xAxisTicks = xValues[:(len(annotationData))]\n",
    "    yAxisValues = yValues[:(len(annotationData))]\n",
    "    \n",
    "    #plt.rcParams[\"figure.figsize\"] = [len(xAxisTicks)+5,len(xAxisTicks)+5]\n",
    "    plt.rcParams[\"figure.figsize\"] = [9,9]\n",
    "    \n",
    "    t = np.arange(0.01, 20.0, 0.01)\n",
    "    \n",
    "    fig, ax = plt.subplots()\n",
    "    \n",
    "    xRange = np.arange(len(xAxisTicks))\n",
    "    \n",
    "    ax.set_xticklabels(xAxisTicks, rotation=45, ha='left')\n",
    "    ax.set_xticks(xRange)\n",
    "    \n",
    "    h = plt.bar(xrange(len(xAxisTicks)), yAxisValues, label=xAxisTicks)\n",
    "    xticks_pos = [0.65*patch.get_width() + patch.get_xy()[0] for patch in h]\n",
    "    plt.xticks(xticks_pos, xAxisTicks,  ha='right', rotation=45)\n",
    "    \n",
    "    #plt.semilogy(t, np.exp(-t/5.0))\n",
    "    #plt.gca().set_yscale('log')\n",
    "    plt.bar(xRange,yAxisValues)\n",
    "\n",
    "    plt.show()"
   ]
  },
  {
   "cell_type": "markdown",
   "metadata": {},
   "source": [
    "### Graphing the data\n",
    "\n",
    "Finally, we call the summarizeAnnotations function which will graph the data based on the specified annotation ID, start location, end location, and chromosome."
   ]
  },
  {
   "cell_type": "code",
   "execution_count": 45,
   "metadata": {
    "collapsed": true
   },
   "outputs": [],
   "source": [
    "def graphAnnotations(startPosition, endPosition, chromosome):\n",
    "    summarizeAnnotations(annotationSetId=annotationSet.id, start=int(startPosition), end=endPosition, chrom=chromosome)"
   ]
  },
  {
   "cell_type": "code",
   "execution_count": 48,
   "metadata": {
    "collapsed": false,
    "scrolled": true
   },
   "outputs": [],
   "source": [
    "elements = interact(graphAnnotations, \n",
    "           chromosome=('1','2','3'), \n",
    "           startPosition=widgets.IntSlider(min=12000,max=120000,step=1000,value=12000,continuous_update=False), \n",
    "           endPosition=widgets.IntSlider(min=12000,max=140000,step=1000,value=14000,continuous_update=False),\n",
    "           __manual=True,)"
   ]
  },
  {
   "cell_type": "code",
   "execution_count": null,
   "metadata": {
    "collapsed": true
   },
   "outputs": [],
   "source": []
  },
  {
   "cell_type": "code",
   "execution_count": null,
   "metadata": {
    "collapsed": true
   },
   "outputs": [],
   "source": []
  }
 ],
 "metadata": {
  "kernelspec": {
   "display_name": "Python 2",
   "language": "python",
   "name": "python2"
  },
  "language_info": {
   "codemirror_mode": {
    "name": "ipython",
    "version": 2
   },
   "file_extension": ".py",
   "mimetype": "text/x-python",
   "name": "python",
   "nbconvert_exporter": "python",
   "pygments_lexer": "ipython2",
   "version": "2.7.11"
  },
  "widgets": {
   "state": {
    "018838e392fc4cbe8e935e3d397da1e6": {
     "views": []
    },
    "0189ea00e8414d6b8c51a8ed1168a5b7": {
     "views": []
    },
    "01b1ab6b2e964fafaced7f5f8b4dc2c0": {
     "views": []
    },
    "04126c19ff014b03a4178653447f198c": {
     "views": []
    },
    "0506e615bf624373b61ca485abfc1cbf": {
     "views": []
    },
    "06bc0cba38894098b71c4626b563aefd": {
     "views": []
    },
    "075fd1b6763d42afb5054b9bfcef323f": {
     "views": []
    },
    "096a6b3699b6404fb16a42d7fc7d86eb": {
     "views": []
    },
    "099e8e54daa44d598a558b0d6212a517": {
     "views": []
    },
    "09a6a510b7b0480e93c87f9c20c5f5db": {
     "views": []
    },
    "0b101f8070e84dae8ccd421b0ae500a5": {
     "views": []
    },
    "0da5b00be9944d47881ac1464b41d914": {
     "views": []
    },
    "1032549a6de64272867e8270fb5e182a": {
     "views": []
    },
    "11e6996d0ab7444fb6f52d804e27f68c": {
     "views": []
    },
    "13d77c0c6f4c4381a2ddb41400b3982b": {
     "views": []
    },
    "17e9c7520a5447f08fdd56006ec1f69e": {
     "views": []
    },
    "1867d360d7a34b88aa1752486d6c75b8": {
     "views": []
    },
    "1be9c78b161c40c4b34f022db55ab857": {
     "views": []
    },
    "1c229dd55b4f4dfc9be4b32e7e2232e6": {
     "views": []
    },
    "1db117496c6c4d17a3ad5a5853db61ed": {
     "views": []
    },
    "1f394507d5f54cdcac178109f0ed324e": {
     "views": []
    },
    "2010803d53a74b8ab0e82deb96bcab53": {
     "views": []
    },
    "2116c64d5a034f5abe7535ce9a53c20b": {
     "views": []
    },
    "21382a7a0906479cb9c7a86dc0e6e79a": {
     "views": []
    },
    "25c32f7784484f959698c3d857f4c01c": {
     "views": []
    },
    "2b08401f5b254dc185427096e6fa004f": {
     "views": []
    },
    "2bc4fce65d9341f99c4e0d3fb079346c": {
     "views": []
    },
    "2d19d94916494b7890436e4141bfe429": {
     "views": []
    },
    "2e08b858f50e40039d3f5761da0ee4da": {
     "views": []
    },
    "2e2a760092524c86bda3150787f6621e": {
     "views": []
    },
    "2e58921ee1104b83afa388b2f6c5d414": {
     "views": []
    },
    "2f85ba04d7db4b5193338e6e114d843d": {
     "views": []
    },
    "32f8dec7535e4c508cdfe6f217088ef6": {
     "views": []
    },
    "34802c93bd1149848116974ae6e1fbda": {
     "views": []
    },
    "36712c6cc7b34f18a5f5cfcab9eb8b2c": {
     "views": [
      {
       "cell_index": 10
      }
     ]
    },
    "36d67fe200e64bd2a19888972c708ff8": {
     "views": []
    },
    "37ab273eeafb47baacaceb7d829f8d82": {
     "views": []
    },
    "3831dd16263946ebbb682fa4122b3ee7": {
     "views": []
    },
    "398b4f822c344dcc86870cdfd3e47f78": {
     "views": []
    },
    "39ac38f640ef47c594e50310cd7be00b": {
     "views": []
    },
    "39cc343a9d3a4edfb1c1d7b478c5cd51": {
     "views": []
    },
    "3a09ff9cadf544af9f5ff787579e9258": {
     "views": []
    },
    "3babae0a398e4a049c941dab936e39f9": {
     "views": []
    },
    "3c7d7742bdbd43c6a89ed54908009d38": {
     "views": []
    },
    "3ea9c71b7a064ef0ac76bd500aeac46c": {
     "views": []
    },
    "4058de63e1bf4fc489a408bf2d777418": {
     "views": []
    },
    "405d653082544705abdbd2f970938e9f": {
     "views": []
    },
    "42a38321e3c54cda98a53fa90e3ba492": {
     "views": []
    },
    "42a71d310247410bb199c3ac5073c4eb": {
     "views": [
      {
       "cell_index": 10
      }
     ]
    },
    "43505ba6d99042538a91bca96fba51ef": {
     "views": []
    },
    "43c37b43d8704b2085e1ca837a7e3089": {
     "views": []
    },
    "44a1acf2074743b49e76734b776ccf6d": {
     "views": []
    },
    "482e80918629453599e1abfaca3d91d4": {
     "views": []
    },
    "498d12c2d3a241bab05f90fdd8b013ef": {
     "views": []
    },
    "49ca4cc7e8634dad8d0c6b03ea585755": {
     "views": []
    },
    "4a231d0841f44111b08cadc7bab455ea": {
     "views": []
    },
    "4a33d93efce64775a946967657ac4ff9": {
     "views": []
    },
    "4aab99f7203c4d0ea73db168433cbcb4": {
     "views": []
    },
    "4c3e2b78d71b46958c36933eaee0c498": {
     "views": []
    },
    "514b77cc15294652827fc1d4ecc0ae69": {
     "views": []
    },
    "517b8ce72dc44a64a18a9980ed9b9c09": {
     "views": []
    },
    "53fa6b071c9a4b26ae80221d9ed4792c": {
     "views": []
    },
    "551f39ef3ecf47919c5723793b7f5c45": {
     "views": []
    },
    "5a9e3d56aff9472d88c8b36b00d92517": {
     "views": []
    },
    "5b4d249abf8343f8953c9ed339a5dc3b": {
     "views": []
    },
    "5bdc647ba7fb45df9cd6279f8f8fb1bd": {
     "views": []
    },
    "5db6b284f661430083c3c0cacd205a91": {
     "views": []
    },
    "5dc75c8b9ea04618900e373c5c2a8981": {
     "views": []
    },
    "5eb7221fe04f4e3dbdcd6a5ed1f1f346": {
     "views": []
    },
    "5ef8b152744b46bb9d02267316e8075e": {
     "views": []
    },
    "613444c7cee24610993bae7dcdb45321": {
     "views": [
      {
       "cell_index": 10
      }
     ]
    },
    "618d1bca6f3548a89639494e2be11d3d": {
     "views": []
    },
    "641665839b3d43ac9861142711813ac9": {
     "views": []
    },
    "6757af6fc5d84c929b1329db3c1042f9": {
     "views": []
    },
    "68d8ccd702b441e48de7be5b46127885": {
     "views": []
    },
    "69bd1f40ea4b4dd3ba94ee38c94da9cb": {
     "views": []
    },
    "6b58f9f7a3154895a52008e5dc4889b8": {
     "views": []
    },
    "6c56c775e7044649acef19736b8d0df1": {
     "views": []
    },
    "6e87c17512184fbe8f53c406190b5f77": {
     "views": []
    },
    "6ec14a6ccbb040fabb0ac305a0294359": {
     "views": []
    },
    "70d3e0c393ce467b926b57e7a8fbeabc": {
     "views": []
    },
    "7108783449f34fec94f4c4ae018948d6": {
     "views": []
    },
    "7392229bb40f48cc97be03b084c8590b": {
     "views": []
    },
    "74c27fa86ec544f49a00ac3ce3ef23d1": {
     "views": []
    },
    "7613576949414a7984f4cd81a8b0b6f7": {
     "views": []
    },
    "77866df29d524224aa360f60daa8b7e8": {
     "views": []
    },
    "7883c918da7141c89b4c420bff2a510f": {
     "views": []
    },
    "7b34cc3a4a004fd48052d12a9e83228d": {
     "views": []
    },
    "7b516fdcfecf46d98c6a1f094de3ce68": {
     "views": []
    },
    "7e04680f850f4d589a67e7f66e71ab65": {
     "views": []
    },
    "7ede576c36e4489dae513e6223f1606f": {
     "views": []
    },
    "7f4012f1f05646feb4eddae4dc8c5636": {
     "views": []
    },
    "803e79d12e0e445080b662cd50c1188d": {
     "views": []
    },
    "81511b52b7264f43a8b7c5df72301eb0": {
     "views": []
    },
    "820dde4e90844ac6a3a3adecd242dceb": {
     "views": []
    },
    "824f4ba0b5ef4b1a8916ac8db0a0275c": {
     "views": []
    },
    "82536c02eb494519b301c061958b348c": {
     "views": []
    },
    "8434bcea145f446e8b4003fcedb738a3": {
     "views": []
    },
    "844a575b574046679ed4bf2f15d83d99": {
     "views": []
    },
    "86cb05b57d6e4f10a8338aa74544107a": {
     "views": []
    },
    "8797c86ec65f4ee0b5236fd18be268b5": {
     "views": []
    },
    "87a16efed6684c7abe80bff5a93d8be2": {
     "views": []
    },
    "8a70cce3e0f144d4813c3a2e8e1b0895": {
     "views": []
    },
    "8b8c9244173241fc9107cbc98f180a1e": {
     "views": []
    },
    "8b8ece16ed3941b196fb7a97ea9069c3": {
     "views": []
    },
    "8bf73430de424264a1cda1a827974254": {
     "views": []
    },
    "8ed958423c1142179d678db03cc36bce": {
     "views": []
    },
    "92091162f2b74e6da3048ffa26542290": {
     "views": []
    },
    "942895c08805419d945b72f81f29b07f": {
     "views": []
    },
    "945f7ff6cad7419097002fb1366c09a8": {
     "views": []
    },
    "9557db54a70f48e9abc28ba1fda738bf": {
     "views": []
    },
    "978885b0cdb1412eaddc8fea23c210ad": {
     "views": []
    },
    "97f62c7ba1854a218b8fa1d288da90b9": {
     "views": []
    },
    "98107c485fc047919fc3e56d2cb61836": {
     "views": []
    },
    "987cacac38064b37917c02f66ccab28a": {
     "views": []
    },
    "996781939f1849b58c3f301db9ebeea9": {
     "views": []
    },
    "9b02c10ccc7c43c5b35584fd42e2bd06": {
     "views": []
    },
    "9b41f67075a84b2cad03e6555bba761a": {
     "views": []
    },
    "9e215132021f4fab8ec6e3b91ce31e43": {
     "views": []
    },
    "a168658ffe9c4a7ba085219c1a8750fd": {
     "views": []
    },
    "a1fb251e685142289b56ff5d3e19c5dd": {
     "views": []
    },
    "a3046e9323b540caa9b1474ade784b2f": {
     "views": []
    },
    "a50ffa2055ad46bda8157a0ed29b62b2": {
     "views": []
    },
    "a746aec85a9241b9a06e3d0a40b31779": {
     "views": []
    },
    "a8a4a66f0c1f46489a0b051a3a3853bc": {
     "views": []
    },
    "a8f098248b6c4202a603b3a845fb140a": {
     "views": []
    },
    "a90387c3e3ec4b4ea14695c423867827": {
     "views": []
    },
    "aba91525248241889c5f730aeeffa4d0": {
     "views": []
    },
    "ac0ce49c5c87426098e9a1eb2a604549": {
     "views": []
    },
    "aea66a030a164c32aa220b6fd7420714": {
     "views": []
    },
    "af087154bd264adbb96a3de765079d29": {
     "views": []
    },
    "b13b035c6e3d4becac880c5e9d56705d": {
     "views": []
    },
    "b2e508e814ff4dd69bc55da48267dced": {
     "views": []
    },
    "b43821209e294ac499940f74c3584bea": {
     "views": []
    },
    "b4eb82dcd7bf4a229c6c9290fddcfe49": {
     "views": []
    },
    "b7aa761c201742f6a9e1b7f77acaff6d": {
     "views": []
    },
    "b910363878d74a63af5f79a59a866238": {
     "views": []
    },
    "c0e9ba8c8b1b486788e75a609b6920e3": {
     "views": []
    },
    "c10712574b1d404b8f0884f74cb445ee": {
     "views": []
    },
    "c138ebee0952482ba9c07e2c6f9a8ff6": {
     "views": []
    },
    "c2f4acb911754574b5d96c0ccfaa1123": {
     "views": []
    },
    "c5ddade0d19046f88e567d2e8e138cb9": {
     "views": []
    },
    "c6085ae8e1d24eb08000f686e0cc361b": {
     "views": []
    },
    "cb3a4961ac5d4ba8a3709ae7e46d857f": {
     "views": []
    },
    "cb42409eff90494e9c5ae738eeac2d31": {
     "views": []
    },
    "cddb02c793e242ca84cfda33496bda8b": {
     "views": []
    },
    "cde59974517844728cc671555bcbb442": {
     "views": []
    },
    "cf9ab9b6cc68422da9de51efdd7922df": {
     "views": []
    },
    "d1295a4feca849459dcfca9522301b2b": {
     "views": []
    },
    "d364794632734954a5a450b442d7e494": {
     "views": []
    },
    "d3f7101119ea43f0a9a34a680f8c8519": {
     "views": []
    },
    "d7797a86e6114bdf95ce0bcd859331c5": {
     "views": []
    },
    "d926344cd33c43f3ba66efbec59d15d5": {
     "views": []
    },
    "d9fa576c4ffa4ba9970531f630057fd0": {
     "views": []
    },
    "dad4c5b00c09470ebaaceafa0460035b": {
     "views": []
    },
    "de7db01efff84481ab2224ec4ad8d7cf": {
     "views": []
    },
    "df0c19c04f274ca3b48070990253f5f4": {
     "views": []
    },
    "dfe446bc5bc146e79acdf5f04da2588d": {
     "views": []
    },
    "e41c795803ad40c98144b48683446a04": {
     "views": []
    },
    "e45e2c3596b64108bd96d3bec3ad64a5": {
     "views": []
    },
    "e4b6784ee8624809b10d3f765f3f6197": {
     "views": []
    },
    "e4f3650f4c3a4640a56226b25c4c91ea": {
     "views": []
    },
    "e5e168a2a21f4bbc85630f60bd42c2ca": {
     "views": []
    },
    "e637ea1406d040dc83498dee9ee11a1f": {
     "views": [
      {
       "cell_index": 10
      }
     ]
    },
    "e7cde443433c4bfcac37caaa1d01fa38": {
     "views": []
    },
    "e9b5595f5ea4416da9e72543473dbf9a": {
     "views": []
    },
    "ea46a904ba044679972f0aa7f79270a0": {
     "views": []
    },
    "ec52d86551cb4e73b5e74d202ae1a29f": {
     "views": []
    },
    "ee7601b1113844008513bb5aaec24c1c": {
     "views": []
    },
    "f133b3738fd741f1b7d747c8d4573b0f": {
     "views": []
    },
    "f1ef53c3f244489fa6a1768e63bb3c86": {
     "views": []
    },
    "f21b01dcac074ed5938ac6468b00255a": {
     "views": []
    },
    "f4ddd029e86b435f89b8fac19d77b8d4": {
     "views": []
    },
    "f6d5738ccd854c64b503a23967fbb7f8": {
     "views": []
    },
    "f8890f4f3b614e17a66627bb373669ac": {
     "views": []
    },
    "fa7af42334a349eaa7e7259178e3090f": {
     "views": []
    },
    "fbe9bde677bb4cef8e3250e01578f686": {
     "views": []
    },
    "fd119715fca84acaa5e454cdd72e525e": {
     "views": []
    },
    "fe8a47ab3a55417b8de6a5288d27bcba": {
     "views": []
    },
    "feff3a2025bd440fbbd316938ae322cf": {
     "views": []
    }
   },
   "version": "1.1.1"
  }
 },
 "nbformat": 4,
 "nbformat_minor": 0
}
