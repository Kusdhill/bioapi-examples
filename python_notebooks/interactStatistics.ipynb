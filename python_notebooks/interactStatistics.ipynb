{
 "cells": [
  {
   "cell_type": "markdown",
   "metadata": {},
   "source": [
    "### Initialize the client\n",
    "\n",
    "As seen in the \"1kg.ipynb\" example, we take the following steps to create the client object that will be used to obtain the information we desire and query the server. Plotting tools are also imported here."
   ]
  },
  {
   "cell_type": "code",
   "execution_count": 1,
   "metadata": {
    "collapsed": false
   },
   "outputs": [],
   "source": [
    "import ga4gh.client as client\n",
    "c = client.HttpClient(\"http://1kgenomes.ga4gh.org\")\n",
    "\n",
    "import collections\n",
    "%matplotlib inline\n",
    "import matplotlib\n",
    "import numpy as np\n",
    "import matplotlib.pyplot as plt\n",
    "\n",
    "from __future__ import print_function\n",
    "from ipywidgets import interact, interactive, fixed\n",
    "import ipywidgets as widgets"
   ]
  },
  {
   "cell_type": "markdown",
   "metadata": {},
   "source": [
    "### Acquiring annotation set\n",
    "\n",
    "We query the server for the dataset, which is the 1k-genomes dataset. The dataset has a unique ID that can be used to acquire each variant set within the dataset. \n",
    "\n",
    "To access the different kinds of annotations, we access the annotation set using the unique variant set ID."
   ]
  },
  {
   "cell_type": "code",
   "execution_count": 2,
   "metadata": {
    "collapsed": false,
    "scrolled": false
   },
   "outputs": [],
   "source": [
    "dataset = c.searchDatasets().next()\n",
    "\n",
    "for variantSet in c.searchVariantSets(dataset.id):\n",
    "    #print(variantSet)\n",
    "    if variantSet.name == \"functional-annotation\":\n",
    "        annotation = variantSet\n",
    "\n",
    "annotationSet = c.searchVariantAnnotationSets(variantSetId=annotation.id).next()"
   ]
  },
  {
   "cell_type": "markdown",
   "metadata": {},
   "source": [
    "### Summarizing and storing annotation statistics\n",
    "\n",
    "This function lists and counts the different kinds of <a href=\"https://en.wikipedia.org/wiki/Bioinformatics#Genome_annotation\" target=\"_blank\">annotations</a> in the DNA sequence.\n",
    "\n",
    "These statistics are passed onto the graphing function, plotStatistics, in order to be graphed into different visual representations of the data."
   ]
  },
  {
   "cell_type": "code",
   "execution_count": 3,
   "metadata": {
    "collapsed": false
   },
   "outputs": [],
   "source": [
    "def summarizeAnnotations(annotationSetId=None, start=None, end=None, chrom=None):\n",
    "    termsAndCounts = collections.OrderedDict()\n",
    "    grandTotal = {}\n",
    "    typesOfAnnotations = 0\n",
    "    totalAnnotations = 0\n",
    "    \n",
    "    # The series of loops add the type of annotation (term.term) and the count of how many of this specific\n",
    "    # type of annotation are in the sequnce into the termsAndCounts dictionary.\n",
    "    for annotation in c.searchVariantAnnotations(annotationSetId, start=start, end=end, referenceName=chrom):\n",
    "        for eff in annotation.transcript_effects:\n",
    "            for term in eff.effects:\n",
    "                if term.term in termsAndCounts:\n",
    "                    termsAndCounts[term.term]['count'] += 1\n",
    "                    totalAnnotations += 1\n",
    "                else:\n",
    "                    termsAndCounts[term.term] = {}\n",
    "                    termsAndCounts[term.term]['count'] = 1\n",
    "                    totalAnnotations +=1\n",
    "    \n",
    "    for items in termsAndCounts:\n",
    "        typesOfAnnotations += 1\n",
    "    \n",
    "    # The final set of statistics in the dictionary are the count of how many unique annotations there are in the\n",
    "    # sequence and the grand total of annotations in the sequence.\n",
    "    grandTotal['statistics'] = {}\n",
    "    grandTotal['statistics']['types_of_annotations'] = typesOfAnnotations\n",
    "    grandTotal['statistics']['total_annotations'   ] = totalAnnotations\n",
    "    \n",
    "    #print(termsAndCounts.items)\n",
    "    orderedTermsAndCounts = collections.OrderedDict(sorted(termsAndCounts.items(), None, lambda x: x[1]['count']))\n",
    "    #print(\"termsAndCounts = \",termsAndCounts)\n",
    "    #print(\"grandTotal = \",grandTotal)\n",
    "    #print(\"orderedTermsAndCounts = \",orderedTermsAndCounts)\n",
    "    plotHistogram(orderedTermsAndCounts)"
   ]
  },
  {
   "cell_type": "markdown",
   "metadata": {},
   "source": [
    "### Plotting statistics and making a histogram\n",
    "\n",
    "This function creates x/y-axis information based on the annotation data (the annotation terms and counts). It stores the data in specific way so that matplotlib can interpret it. After the data is organized, a histogram is made."
   ]
  },
  {
   "cell_type": "code",
   "execution_count": 4,
   "metadata": {
    "collapsed": false
   },
   "outputs": [],
   "source": [
    "def plotHistogram(annotationData):\n",
    "    \n",
    "    xValues = [None]*(len(annotationData)+1)\n",
    "    yValues = [None]*(len(annotationData)+1)\n",
    "    \n",
    "    i=0\n",
    "    j=0\n",
    "    for items in annotationData:\n",
    "        for counts in annotationData[items]:\n",
    "            xValues[i] = items\n",
    "            yValues[i] = annotationData[items][counts]\n",
    "            i+=1\n",
    "        \n",
    "    xAxisTicks = xValues[:(len(annotationData))]\n",
    "    yAxisValues = yValues[:(len(annotationData))]\n",
    "    \n",
    "    #plt.rcParams[\"figure.figsize\"] = [len(xAxisTicks)+5,len(xAxisTicks)+5]\n",
    "    plt.rcParams[\"figure.figsize\"] = [9,9]\n",
    "    \n",
    "    t = np.arange(0.01, 20.0, 0.01)\n",
    "    \n",
    "    fig, ax = plt.subplots()\n",
    "    \n",
    "    xRange = np.arange(len(xAxisTicks))\n",
    "    \n",
    "    ax.set_xticklabels(xAxisTicks, rotation=45, ha='left')\n",
    "    ax.set_xticks(xRange)\n",
    "    \n",
    "    h = plt.bar(xrange(len(xAxisTicks)), yAxisValues, label=xAxisTicks)\n",
    "    xticks_pos = [0.65*patch.get_width() + patch.get_xy()[0] for patch in h]\n",
    "    plt.xticks(xticks_pos, xAxisTicks,  ha='right', rotation=45)\n",
    "    \n",
    "    #plt.semilogy(t, np.exp(-t/5.0))\n",
    "    #plt.gca().set_yscale('log')\n",
    "    plt.bar(xRange,yAxisValues)\n",
    "\n",
    "    plt.show()"
   ]
  },
  {
   "cell_type": "markdown",
   "metadata": {},
   "source": [
    "### Graphing the data\n",
    "\n",
    "Finally, we call the summarizeAnnotations function which will graph the data based on the specified annotation ID, start location, end location, and chromosome."
   ]
  },
  {
   "cell_type": "code",
   "execution_count": 5,
   "metadata": {
    "collapsed": true
   },
   "outputs": [],
   "source": [
    "def graphAnnotations(startPosition, endPosition, chromosome):\n",
    "    summarizeAnnotations(annotationSetId=annotationSet.id, start=int(startPosition), end=endPosition, chrom=chromosome)"
   ]
  },
  {
   "cell_type": "code",
   "execution_count": 10,
   "metadata": {
    "collapsed": false,
    "scrolled": true
   },
   "outputs": [
    {
     "data": {
      "image/png": "[encoded data removed]",
      "text/plain": [
       "<matplotlib.figure.Figure at 0x10eaa3d10>"
      ]
     },
     "metadata": {},
     "output_type": "display_data"
    }
   ],
   "source": [
    "interact(graphAnnotations, chromosome=('1','2','3'), startPosition=widgets.IntSlider(min=12000,max=120000,step=1000,value=12000,continuous_update=False), __manual=True, endPosition=widgets.IntSlider(min=12000,max=140000,step=1000,value=14000,continuous_update=False))"
   ]
  }
 ],
 "metadata": {
  "kernelspec": {
   "display_name": "Python 2",
   "language": "python",
   "name": "python2"
  },
  "language_info": {
   "codemirror_mode": {
    "name": "ipython",
    "version": 2
   },
   "file_extension": ".py",
   "mimetype": "text/x-python",
   "name": "python",
   "nbconvert_exporter": "python",
   "pygments_lexer": "ipython2",
   "version": "2.7.11"
  },
  "widgets": {
   "state": {
    "018838e392fc4cbe8e935e3d397da1e6": {
     "views": []
    },
    "0506e615bf624373b61ca485abfc1cbf": {
     "views": [
      {
       "cell_index": 10
      }
     ]
    },
    "1032549a6de64272867e8270fb5e182a": {
     "views": []
    },
    "13d77c0c6f4c4381a2ddb41400b3982b": {
     "views": []
    },
    "1867d360d7a34b88aa1752486d6c75b8": {
     "views": []
    },
    "21382a7a0906479cb9c7a86dc0e6e79a": {
     "views": []
    },
    "2d19d94916494b7890436e4141bfe429": {
     "views": []
    },
    "398b4f822c344dcc86870cdfd3e47f78": {
     "views": []
    },
    "3babae0a398e4a049c941dab936e39f9": {
     "views": []
    },
    "3c7d7742bdbd43c6a89ed54908009d38": {
     "views": []
    },
    "43c37b43d8704b2085e1ca837a7e3089": {
     "views": []
    },
    "53fa6b071c9a4b26ae80221d9ed4792c": {
     "views": []
    },
    "5eb7221fe04f4e3dbdcd6a5ed1f1f346": {
     "views": []
    },
    "5ef8b152744b46bb9d02267316e8075e": {
     "views": []
    },
    "68d8ccd702b441e48de7be5b46127885": {
     "views": []
    },
    "69bd1f40ea4b4dd3ba94ee38c94da9cb": {
     "views": []
    },
    "6c56c775e7044649acef19736b8d0df1": {
     "views": []
    },
    "86cb05b57d6e4f10a8338aa74544107a": {
     "views": []
    },
    "87a16efed6684c7abe80bff5a93d8be2": {
     "views": []
    },
    "945f7ff6cad7419097002fb1366c09a8": {
     "views": []
    },
    "9e215132021f4fab8ec6e3b91ce31e43": {
     "views": []
    },
    "a168658ffe9c4a7ba085219c1a8750fd": {
     "views": []
    },
    "a50ffa2055ad46bda8157a0ed29b62b2": {
     "views": []
    },
    "a8a4a66f0c1f46489a0b051a3a3853bc": {
     "views": []
    },
    "a90387c3e3ec4b4ea14695c423867827": {
     "views": []
    },
    "c6085ae8e1d24eb08000f686e0cc361b": {
     "views": []
    },
    "cde59974517844728cc671555bcbb442": {
     "views": []
    },
    "dfe446bc5bc146e79acdf5f04da2588d": {
     "views": []
    },
    "e4b6784ee8624809b10d3f765f3f6197": {
     "views": []
    },
    "ec52d86551cb4e73b5e74d202ae1a29f": {
     "views": []
    },
    "f133b3738fd741f1b7d747c8d4573b0f": {
     "views": []
    },
    "f4ddd029e86b435f89b8fac19d77b8d4": {
     "views": []
    },
    "f8890f4f3b614e17a66627bb373669ac": {
     "views": []
    },
    "fa7af42334a349eaa7e7259178e3090f": {
     "views": []
    }
   },
   "version": "1.1.1"
  }
 },
 "nbformat": 4,
 "nbformat_minor": 0
}
