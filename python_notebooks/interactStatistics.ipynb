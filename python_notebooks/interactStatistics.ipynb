{
 "cells": [
  {
   "cell_type": "markdown",
   "metadata": {},
   "source": [
    "### Initialize the client\n",
    "\n",
    "As seen in the \"1kg.ipynb\" example, we take the following steps to create the client object that will be used to obtain the information we desire and query the server. Plotting tools are also imported here."
   ]
  },
  {
   "cell_type": "code",
   "execution_count": 1,
   "metadata": {
    "collapsed": false
   },
   "outputs": [],
   "source": [
    "import ga4gh.client as client\n",
    "c = client.HttpClient(\"http://1kgenomes.ga4gh.org\")\n",
    "\n",
    "import collections\n",
    "%matplotlib inline\n",
    "import matplotlib\n",
    "import numpy as np\n",
    "import matplotlib.pyplot as plt\n",
    "\n",
    "from __future__ import print_function\n",
    "from ipywidgets import interact, interactive, fixed\n",
    "import ipywidgets as widgets"
   ]
  },
  {
   "cell_type": "markdown",
   "metadata": {},
   "source": [
    "### Acquiring annotation set\n",
    "\n",
    "We query the server for the dataset, which is the 1k-genomes dataset. The dataset has a unique ID that can be used to acquire each variant set within the dataset. \n",
    "\n",
    "To access the different kinds of annotations, we access the annotation set using the unique variant set ID."
   ]
  },
  {
   "cell_type": "code",
   "execution_count": 7,
   "metadata": {
    "collapsed": false,
    "scrolled": false
   },
   "outputs": [],
   "source": [
    "dataset = c.searchDatasets().next()\n",
    "\n",
    "for variantSet in c.searchVariantSets(dataset.id):\n",
    "    #print(variantSet)\n",
    "    if variantSet.name == \"functional-annotation\":\n",
    "        annotation = variantSet\n",
    "\n",
    "annotationSet = c.searchVariantAnnotationSets(variantSetId=annotation.id).next()"
   ]
  },
  {
   "cell_type": "markdown",
   "metadata": {},
   "source": [
    "### Summarizing and storing annotation statistics\n",
    "\n",
    "This function lists and counts the different kinds of <a href=\"https://en.wikipedia.org/wiki/Bioinformatics#Genome_annotation\" target=\"_blank\">annotations</a> in the DNA sequence.\n",
    "\n",
    "These statistics are passed onto the graphing function, plotStatistics, in order to be graphed into different visual representations of the data."
   ]
  },
  {
   "cell_type": "code",
   "execution_count": 28,
   "metadata": {
    "collapsed": false
   },
   "outputs": [],
   "source": [
    "def summarizeAnnotations(annotationSetId=None, start=None, end=None, chrom=None):\n",
    "    termsAndCounts = collections.OrderedDict()\n",
    "    grandTotal = {}\n",
    "    typesOfAnnotations = 0\n",
    "    totalAnnotations = 0\n",
    "    \n",
    "    # The series of loops add the type of annotation (term.term) and the count of how many of this specific\n",
    "    # type of annotation are in the sequnce into the termsAndCounts dictionary.\n",
    "    for annotation in c.searchVariantAnnotations(annotationSetId, start=start, end=end, referenceName=chrom):\n",
    "        for eff in annotation.transcript_effects:\n",
    "            for term in eff.effects:\n",
    "                if term.term in termsAndCounts:\n",
    "                    termsAndCounts[term.term]['count'] += 1\n",
    "                    totalAnnotations += 1\n",
    "                else:\n",
    "                    termsAndCounts[term.term] = {}\n",
    "                    termsAndCounts[term.term]['count'] = 1\n",
    "                    totalAnnotations +=1\n",
    "    \n",
    "    for items in termsAndCounts:\n",
    "        typesOfAnnotations += 1\n",
    "    \n",
    "    # The final set of statistics in the dictionary are the count of how many unique annotations there are in the\n",
    "    # sequence and the grand total of annotations in the sequence.\n",
    "    grandTotal['statistics'] = {}\n",
    "    grandTotal['statistics']['types_of_annotations'] = typesOfAnnotations\n",
    "    grandTotal['statistics']['total_annotations'   ] = totalAnnotations\n",
    "    \n",
    "    #print(termsAndCounts.items)\n",
    "    orderedTermsAndCounts = collections.OrderedDict(sorted(termsAndCounts.items(), None, lambda x: x[1]['count']))\n",
    "    #print(\"termsAndCounts = \",termsAndCounts)\n",
    "    #print(\"grandTotal = \",grandTotal)\n",
    "    #print(\"orderedTermsAndCounts = \",orderedTermsAndCounts)\n",
    "    plotStatistics(annotationData=orderedTermsAndCounts)"
   ]
  },
  {
   "cell_type": "markdown",
   "metadata": {},
   "source": [
    "### Plotting statistics\n",
    "\n",
    "This function creates x/y-axis information and percentages based on the annotation data (the annotation terms and counts). It stores the data in specific way so that matplotlib can interpret it."
   ]
  },
  {
   "cell_type": "code",
   "execution_count": 33,
   "metadata": {
    "collapsed": true
   },
   "outputs": [],
   "source": [
    "def plotStatistics(annotationData):\n",
    "    xValues = [None]*(len(annotationData)+1)\n",
    "    yValues = [None]*(len(annotationData)+1)\n",
    "    \n",
    "    i=0\n",
    "    j=0\n",
    "    for items in annotationData:\n",
    "        for counts in annotationData[items]:\n",
    "            xValues[i] = items\n",
    "            yValues[i] = annotationData[items][counts]\n",
    "            i+=1\n",
    "        \n",
    "    xAxisTicks = xValues[:(len(annotationData))]\n",
    "    yAxisValues = yValues[:(len(annotationData))]\n",
    "    \n",
    "    #plt.rcParams[\"figure.figsize\"] = [len(xAxisTicks)+5,len(xAxisTicks)+5]\n",
    "    \n",
    "    plotHistogram(xAxisTicks, yAxisValues)"
   ]
  },
  {
   "cell_type": "markdown",
   "metadata": {},
   "source": [
    "### Histogram\n",
    "\n",
    "This function is called by the plotStatistics function and will create a histogram of the data"
   ]
  },
  {
   "cell_type": "code",
   "execution_count": 69,
   "metadata": {
    "collapsed": false
   },
   "outputs": [],
   "source": [
    "def plotHistogram(xAxisTicks,yAxisValues):\n",
    "    \n",
    "    t = np.arange(0.01, 20.0, 0.01)\n",
    "    \n",
    "    fig, ax = plt.subplots()\n",
    "    \n",
    "    xRange = np.arange(len(xAxisTicks))\n",
    "    \n",
    "    ax.set_xticklabels(xAxisTicks, rotation=45, ha='left')\n",
    "    ax.set_xticks(xRange)\n",
    "    \n",
    "    h = plt.bar(xrange(len(xAxisTicks)), yAxisValues, label=xAxisTicks)\n",
    "    xticks_pos = [0.65*patch.get_width() + patch.get_xy()[0] for patch in h]\n",
    "    plt.xticks(xticks_pos, xAxisTicks,  ha='right', rotation=45)\n",
    "    \n",
    "    #plt.semilogy(t, np.exp(-t/5.0))\n",
    "    #plt.gca().set_yscale('log')\n",
    "    plt.bar(xRange,yAxisValues)\n",
    "\n",
    "    plt.show()"
   ]
  },
  {
   "cell_type": "markdown",
   "metadata": {},
   "source": [
    "### Graphing the data\n",
    "\n",
    "Finally, we call the summarizeAnnotations function which will graph the data based on the specified annotation ID, start location, end location, and chromosome."
   ]
  },
  {
   "cell_type": "code",
   "execution_count": 70,
   "metadata": {
    "collapsed": false
   },
   "outputs": [
    {
     "data": {
      "image/png": "[encoded data removed]",
      "text/plain": [
       "<matplotlib.figure.Figure at 0x1023f6f10>"
      ]
     },
     "metadata": {},
     "output_type": "display_data"
    }
   ],
   "source": [
    "summarizeAnnotations(annotationSetId=annotationSet.id,start=12000,end=14000,chrom=\"1\")"
   ]
  },
  {
   "cell_type": "code",
   "execution_count": 71,
   "metadata": {
    "collapsed": true
   },
   "outputs": [],
   "source": [
    "def f(startPosition,endPosition):\n",
    "    summarizeAnnotations(annotationSetId=annotationSet.id,start=startPosition,end=endPosition,chrom=\"1\")"
   ]
  },
  {
   "cell_type": "code",
   "execution_count": 72,
   "metadata": {
    "collapsed": false
   },
   "outputs": [
    {
     "data": {
      "image/png": "[encoded data removed]",
      "text/plain": [
       "<matplotlib.figure.Figure at 0x104184ed0>"
      ]
     },
     "metadata": {},
     "output_type": "display_data"
    }
   ],
   "source": [
    "interact(f, startPosition=fixed(12000), endPosition=widgets.IntSlider(min=14000,max=140000,step=1000,value=14000))"
   ]
  },
  {
   "cell_type": "code",
   "execution_count": 22,
   "metadata": {
    "collapsed": true
   },
   "outputs": [],
   "source": [
    "def returnIt(x):\n",
    "    return x"
   ]
  },
  {
   "cell_type": "code",
   "execution_count": 23,
   "metadata": {
    "collapsed": false
   },
   "outputs": [
    {
     "data": {
      "text/plain": [
       "u'Hello'"
      ]
     },
     "metadata": {},
     "output_type": "display_data"
    }
   ],
   "source": [
    "interact(returnIt, x='Hello');"
   ]
  },
  {
   "cell_type": "code",
   "execution_count": null,
   "metadata": {
    "collapsed": true
   },
   "outputs": [],
   "source": []
  }
 ],
 "metadata": {
  "kernelspec": {
   "display_name": "Python 2",
   "language": "python",
   "name": "python2"
  },
  "language_info": {
   "codemirror_mode": {
    "name": "ipython",
    "version": 2
   },
   "file_extension": ".py",
   "mimetype": "text/x-python",
   "name": "python",
   "nbconvert_exporter": "python",
   "pygments_lexer": "ipython2",
   "version": "2.7.11"
  },
  "widgets": {
   "state": {
    "044dcafa8d924feabeef2feb3a6af95f": {
     "views": []
    },
    "07b42efe205149f6b011148c916d175f": {
     "views": []
    },
    "0f8d0bc7826b4c8eb4f9010863702b7b": {
     "views": []
    },
    "12ec69f2c020418292a9ed7c1d5aab38": {
     "views": []
    },
    "16937be15e6840b3bc29b19cc2cab6be": {
     "views": []
    },
    "1bb6f4b57a014ef380f55161bf765643": {
     "views": []
    },
    "1cf24ceb46ad4ae7ac3b1c4195eca885": {
     "views": [
      {
       "cell_index": 13
      }
     ]
    },
    "1d2e5efc7e0a4bac897509f04e6f1fa0": {
     "views": []
    },
    "23b15f6ed884483db9e2b266dbe3edaf": {
     "views": []
    },
    "26cf72efb47945b1afbc0256027c2012": {
     "views": []
    },
    "2e6dedea74004d189f052fce9e759c40": {
     "views": []
    },
    "2f91818ad4ff4e2aabc105d383408db3": {
     "views": [
      {
       "cell_index": 13
      }
     ]
    },
    "40e577fe0863441aa3dc13df129cb86e": {
     "views": []
    },
    "492ea133fbf043718ddf5762ef337e61": {
     "views": []
    },
    "499519ea1bdd4126a08e52379b12fbd5": {
     "views": []
    },
    "4b57b79c0ffd450b8496f75b80b8e8cb": {
     "views": []
    },
    "5ddcb66da1054295923196a854e14f07": {
     "views": []
    },
    "5df21fc5a26b4aa1adec99861a734817": {
     "views": []
    },
    "5ef910fa87b9491cb534bfb4571ae14f": {
     "views": []
    },
    "65d44cdea95e40e0851037cb1bfa2c74": {
     "views": []
    },
    "6827af5a09074d6da6736e40a2d3a10d": {
     "views": []
    },
    "687bf81db39f4a24a877972c24c4f4da": {
     "views": []
    },
    "71157fa9b55e4f8eb290743e2407437d": {
     "views": []
    },
    "77813f327e83434288d41a97cd1e924f": {
     "views": []
    },
    "7c559a3e393348469211aa589a3d260f": {
     "views": []
    },
    "7c5c557cff6a4f059ebc2168624737ce": {
     "views": [
      {
       "cell_index": 15
      }
     ]
    },
    "8588f43d631d429a99f972d71405e5e8": {
     "views": []
    },
    "85dc825b401a4b209678625c86e4ad2d": {
     "views": []
    },
    "8a63a9fe29fc4d8f9cea5cf8daaf215b": {
     "views": []
    },
    "8ed39e4359b74dcfbbc77f3039a53a88": {
     "views": []
    },
    "9030457b11a74a318f318cdf3abb63dc": {
     "views": []
    },
    "97a2f6c7b76d449c9debe66027eb7a41": {
     "views": []
    },
    "9f905fba30a24230858a444e2d1549bf": {
     "views": []
    },
    "a97ce125f1914c26aa95deb0141c5b56": {
     "views": []
    },
    "acbcaf1e2167436c9886d6c3dcfdb5f2": {
     "views": []
    },
    "b01e65f9e5244922b90e56d668d26332": {
     "views": []
    },
    "b1a7562abf2a4542b4c32fd6e3306eb9": {
     "views": []
    },
    "b50f4e2a5e5745d6be9cc68ae62c2af0": {
     "views": []
    },
    "b73c3a514be34ea9ad96d089f3409d64": {
     "views": [
      {
       "cell_index": 13
      }
     ]
    },
    "b9f25fa1165f4215b8a878482003b057": {
     "views": []
    },
    "bf5baa66503f48268828b721ff2ce280": {
     "views": []
    },
    "c5fe5b13e80d465081744838547fde90": {
     "views": []
    },
    "cb9f3442cfd84162a461640cf7467639": {
     "views": []
    },
    "cd9076887fb44458bbb03561ed4d2c1a": {
     "views": []
    },
    "d72a9f2916fe4e33a14ee098e430764c": {
     "views": []
    },
    "ddb33069475f4121b64c492254abc232": {
     "views": []
    },
    "dee5dc8cfb88424481223786c2b5bae8": {
     "views": []
    },
    "e091294a2d67456e971a55a029c4f72c": {
     "views": []
    },
    "e36f131426144d90921865e6fad953d2": {
     "views": []
    },
    "e382bbc60bda406b8840541dbe8b2c28": {
     "views": []
    },
    "f65969a4d8ce402b8c14c7d42ef71d51": {
     "views": []
    },
    "f6dfa4c3ddfc45eeb8239aa6b99484cd": {
     "views": []
    },
    "faafc85c0e3a49ffa814cbcc198acc51": {
     "views": []
    },
    "fb3d23c66e8344a0ac27403865d2a0bf": {
     "views": [
      {
       "cell_index": 13
      }
     ]
    },
    "fcd12cc7ddbd4affbe9ed205815f95e1": {
     "views": []
    },
    "fda2d17dfad7475ca620f6ef4708b3e1": {
     "views": []
    }
   },
   "version": "1.1.1"
  }
 },
 "nbformat": 4,
 "nbformat_minor": 0
}
