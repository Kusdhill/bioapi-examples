{
 "cells": [
  {
   "cell_type": "markdown",
   "metadata": {},
   "source": [
    "### Initialize the client\n",
    "\n",
    "As seen in the \"1kg.ipynb\" example, we take the following steps to create the client object that will be used to obtain the information we desire and query the server. Plotting tools are also imported here."
   ]
  },
  {
   "cell_type": "code",
   "execution_count": 1,
   "metadata": {
    "collapsed": false
   },
   "outputs": [],
   "source": [
    "import ga4gh.client as client\n",
    "c = client.HttpClient(\"http://1kgenomes.ga4gh.org\")\n",
    "\n",
    "import collections\n",
    "%matplotlib inline\n",
    "import matplotlib\n",
    "import numpy as np\n",
    "import matplotlib.pyplot as plt"
   ]
  },
  {
   "cell_type": "markdown",
   "metadata": {},
   "source": [
    "### Acquiring annotation set\n",
    "\n",
    "We query the server for the dataset, which is the 1k-genomes dataset. The dataset has a unique ID that can be used to acquire each variant set within the dataset. \n",
    "\n",
    "To access the different kinds of annotations, we access the annotation set using the unique variant set ID."
   ]
  },
  {
   "cell_type": "code",
   "execution_count": null,
   "metadata": {
    "collapsed": false
   },
   "outputs": [],
   "source": [
    "dataset = c.searchDatasets().next()\n",
    "\n",
    "for variantSet in c.searchVariantSets(dataset.id):\n",
    "    if variantSet.name == \"functional_annotation\":\n",
    "        annotation = variantSet\n",
    "\n",
    "annotationSet = c.searchVariantAnnotationSets(variantSetId=annotation.id).next()"
   ]
  },
  {
   "cell_type": "markdown",
   "metadata": {},
   "source": [
    "### Summarizing and storing annotation statistics\n",
    "\n",
    "This function lists and counts the different kinds of <a href=\"https://en.wikipedia.org/wiki/Bioinformatics#Genome_annotation\" target=\"_blank\">annotations</a> in the DNA sequence.\n",
    "\n",
    "These statistics are passed onto the graphing function, plotStatistics, in order to be graphed into different visual representations of the data."
   ]
  },
  {
   "cell_type": "code",
   "execution_count": null,
   "metadata": {
    "collapsed": false
   },
   "outputs": [],
   "source": [
    "def summarizeAnnotations(annotationSetId=None, start=None, end=None, chrom=None):\n",
    "    termsAndCounts = collections.OrderedDict()\n",
    "    grandTotal = {}\n",
    "    typesOfAnnotations = 0\n",
    "    totalAnnotations = 0\n",
    "    \n",
    "    # The series of loops add the type of annotation (term.term) and the count of how many of this specific\n",
    "    # type of annotation are in the sequnce into the termsAndCounts dictionary.\n",
    "    for annotation in c.searchVariantAnnotations(annotationSetId, start=start, end=end, referenceName=chrom):\n",
    "        for eff in annotation.transcriptEffects:\n",
    "            for term in eff.effects:\n",
    "                if term.term in termsAndCounts:\n",
    "                    termsAndCounts[term.term]['count'] += 1\n",
    "                    totalAnnotations += 1\n",
    "                else:\n",
    "                    termsAndCounts[term.term] = {}\n",
    "                    termsAndCounts[term.term]['count'] = 1\n",
    "                    totalAnnotations +=1\n",
    "    \n",
    "    for items in termsAndCounts:\n",
    "        typesOfAnnotations += 1\n",
    "    \n",
    "    # The final set of statistics in the dictionary are the count of how many unique annotations there are in the\n",
    "    # sequence and the grand total of annotations in the sequence.\n",
    "    grandTotal['statistics'] = {}\n",
    "    grandTotal['statistics']['types_of_annotations'] = typesOfAnnotations\n",
    "    grandTotal['statistics']['total_annotations'   ] = totalAnnotations\n",
    "    \n",
    "    print(termsAndCounts.items)\n",
    "    orderedTermsAndCounts = collections.OrderedDict(sorted(termsAndCounts.items(), None, lambda x: x[1]['count']))\n",
    "    print(\"termsAndCounts = \",termsAndCounts)\n",
    "    print(\"grandTotal = \",grandTotal)\n",
    "    print(\"orderedTermsAndCounts = \",orderedTermsAndCounts)\n",
    "    plotStatistics(annotationData=orderedTermsAndCounts)"
   ]
  },
  {
   "cell_type": "markdown",
   "metadata": {},
   "source": [
    "### Plotting statistics\n",
    "\n",
    "This function creates x/y-axis information and percentages based on the annotation data (the annotation terms and counts). It stores the data in specific way so that matplotlib can interpret it."
   ]
  },
  {
   "cell_type": "code",
   "execution_count": null,
   "metadata": {
    "collapsed": true
   },
   "outputs": [],
   "source": [
    "def plotStatistics(annotationData):\n",
    "    xValues = [None]*(len(annotationData)+1)\n",
    "    yValues = [None]*(len(annotationData)+1)\n",
    "    \n",
    "    i=0\n",
    "    j=0\n",
    "    for items in annotationData:\n",
    "        for counts in annotationData[items]:\n",
    "            xValues[i] = items\n",
    "            yValues[i] = annotationData[items][counts]\n",
    "            i+=1\n",
    "        \n",
    "    xAxisTicks = xValues[:(len(annotationData))]\n",
    "    yAxisValues = yValues[:(len(annotationData))]\n",
    "    \n",
    "    plt.rcParams[\"figure.figsize\"] = [len(xAxisTicks)+5,len(xAxisTicks)+5]\n",
    "    \n",
    "    plotHistogram(xAxisTicks, yAxisValues)"
   ]
  },
  {
   "cell_type": "markdown",
   "metadata": {},
   "source": [
    "### Histogram\n",
    "\n",
    "This function is called by the plotStatistics function and will create a histogram of the data"
   ]
  },
  {
   "cell_type": "code",
   "execution_count": null,
   "metadata": {
    "collapsed": false
   },
   "outputs": [],
   "source": [
    "def plotHistogram(xAxisTicks,yAxisValues):\n",
    "    \n",
    "    t = np.arange(0.01, 20.0, 0.01)\n",
    "    \n",
    "    fig, ax = plt.subplots()\n",
    "    \n",
    "    xRange = np.arange(len(xAxisTicks))\n",
    "    \n",
    "    ax.set_xticklabels(xAxisTicks, rotation=45)\n",
    "    ax.set_xticks(xRange)\n",
    "    #plt.semilogy(t, np.exp(-t/5.0))\n",
    "    plt.gca().set_yscale('log')\n",
    "    plt.bar(xRange,yAxisValues)\n",
    "\n",
    "    plt.show()"
   ]
  },
  {
   "cell_type": "markdown",
   "metadata": {},
   "source": [
    "### Graphing the data\n",
    "\n",
    "Finally, we call the summarizeAnnotations function which will graph the data based on the specified annotation ID, start location, end location, and chromosome."
   ]
  },
  {
   "cell_type": "code",
   "execution_count": null,
   "metadata": {
    "collapsed": false
   },
   "outputs": [],
   "source": [
    "summarizeAnnotations(annotationSetId=annotationSet.id,start=12000,end=14000,chrom=\"1\")"
   ]
  },
  {
   "cell_type": "code",
   "execution_count": null,
   "metadata": {
    "collapsed": true
   },
   "outputs": [],
   "source": []
  }
 ],
 "metadata": {
  "kernelspec": {
   "display_name": "Python 2",
   "language": "python",
   "name": "python2"
  },
  "language_info": {
   "codemirror_mode": {
    "name": "ipython",
    "version": 2
   },
   "file_extension": ".py",
   "mimetype": "text/x-python",
   "name": "python",
   "nbconvert_exporter": "python",
   "pygments_lexer": "ipython2",
   "version": "2.7.11"
  }
 },
 "nbformat": 4,
 "nbformat_minor": 0
}
