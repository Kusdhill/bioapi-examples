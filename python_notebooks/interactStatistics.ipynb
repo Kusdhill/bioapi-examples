{
 "cells": [
  {
   "cell_type": "markdown",
   "metadata": {},
   "source": [
    "### Initialize the client\n",
    "\n",
    "As seen in the \"1kg.ipynb\" example, we take the following steps to create the client object that will be used to obtain the information we desire and query the server. Plotting tools are also imported here."
   ]
  },
  {
   "cell_type": "code",
   "execution_count": 10,
   "metadata": {
    "collapsed": false
   },
   "outputs": [],
   "source": [
    "import ga4gh.client as client\n",
    "c = client.HttpClient(\"http://1kgenomes.ga4gh.org\")\n",
    "\n",
    "import collections\n",
    "%matplotlib inline\n",
    "import matplotlib\n",
    "import numpy as np\n",
    "import matplotlib.pyplot as plt\n",
    "\n",
    "from __future__ import print_function\n",
    "from ipywidgets import interact, interactive, fixed\n",
    "import ipywidgets as widgets"
   ]
  },
  {
   "cell_type": "markdown",
   "metadata": {},
   "source": [
    "### Acquiring annotation set\n",
    "\n",
    "We query the server for the dataset, which is the 1k-genomes dataset. The dataset has a unique ID that can be used to acquire each variant set within the dataset. \n",
    "\n",
    "To access the different kinds of annotations, we access the annotation set using the unique variant set ID."
   ]
  },
  {
   "cell_type": "code",
   "execution_count": 11,
   "metadata": {
    "collapsed": false,
    "scrolled": false
   },
   "outputs": [],
   "source": [
    "dataset = c.search_datasets().next()\n",
    "\n",
    "for variantSet in c.search_variant_sets(dataset.id):\n",
    "    #print(variantSet)\n",
    "    if variantSet.name == \"functional-annotation\":\n",
    "        annotation = variantSet\n",
    "\n",
    "annotationSet = c.search_variant_annotation_sets(variant_set_id=annotation.id).next()"
   ]
  },
  {
   "cell_type": "markdown",
   "metadata": {},
   "source": [
    "### Summarizing and storing annotation statistics\n",
    "\n",
    "This function lists and counts the different kinds of <a href=\"https://en.wikipedia.org/wiki/Bioinformatics#Genome_annotation\" target=\"_blank\">annotations</a> in the DNA sequence.\n",
    "\n",
    "These statistics are passed onto the graphing function, plotStatistics, in order to be graphed into different visual representations of the data."
   ]
  },
  {
   "cell_type": "code",
   "execution_count": 12,
   "metadata": {
    "collapsed": false
   },
   "outputs": [],
   "source": [
    "def summarizeAnnotations(annotationSetId=None, start=None, end=None, chrom=None, effects=None, logy=False):\n",
    "    termsAndCounts = collections.OrderedDict()\n",
    "    grandTotal = {}\n",
    "    typesOfAnnotations = 0\n",
    "    totalAnnotations = 0\n",
    "    \n",
    "    # The series of loops add the type of annotation (term.term) and the count of how many of this specific\n",
    "    # type of annotation are in the sequnce into the termsAndCounts dictionary.\n",
    "    for annotation in c.search_variant_annotations(annotationSetId, start=start, end=end, reference_name=chrom):\n",
    "        for eff in annotation.transcript_effects:\n",
    "            for term in eff.effects:\n",
    "                if term.term in termsAndCounts:\n",
    "                    termsAndCounts[term.term]['count'] += 1\n",
    "                    totalAnnotations += 1\n",
    "                else:\n",
    "                    termsAndCounts[term.term] = {}\n",
    "                    termsAndCounts[term.term]['count'] = 1\n",
    "                    totalAnnotations +=1\n",
    "    \n",
    "    for items in termsAndCounts:\n",
    "        typesOfAnnotations += 1\n",
    "    \n",
    "    # The final set of statistics in the dictionary are the count of how many unique annotations there are in the\n",
    "    # sequence and the grand total of annotations in the sequence.\n",
    "    grandTotal['statistics'] = {}\n",
    "    grandTotal['statistics']['types_of_annotations'] = typesOfAnnotations\n",
    "    grandTotal['statistics']['total_annotations'   ] = totalAnnotations\n",
    "    \n",
    "    #print(termsAndCounts.items)\n",
    "    orderedTermsAndCounts = collections.OrderedDict(sorted(termsAndCounts.items(), None, lambda x: x[1]['count']))\n",
    "    #print(\"termsAndCounts = \",termsAndCounts)\n",
    "    #print(\"grandTotal = \",grandTotal)\n",
    "    #print(\"orderedTermsAndCounts = \",orderedTermsAndCounts)\n",
    "    plotHistogram(orderedTermsAndCounts,logy)"
   ]
  },
  {
   "cell_type": "markdown",
   "metadata": {},
   "source": [
    "### Plotting statistics and making a histogram\n",
    "\n",
    "This function creates x/y-axis information based on the annotation data (the annotation terms and counts). It stores the data in specific way so that matplotlib can interpret it. After the data is organized, a histogram is made."
   ]
  },
  {
   "cell_type": "code",
   "execution_count": 13,
   "metadata": {
    "collapsed": false
   },
   "outputs": [],
   "source": [
    "def plotHistogram(annotationData,logy):\n",
    "    \n",
    "    xValues = [None]*(len(annotationData)+1)\n",
    "    yValues = [None]*(len(annotationData)+1)\n",
    "    \n",
    "    i=0\n",
    "    j=0\n",
    "    for items in annotationData:\n",
    "        for counts in annotationData[items]:\n",
    "            xValues[i] = items\n",
    "            yValues[i] = annotationData[items][counts]\n",
    "            i+=1\n",
    "        \n",
    "    xAxisTicks = xValues[:(len(annotationData))]\n",
    "    yAxisValues = yValues[:(len(annotationData))]\n",
    "    \n",
    "    #plt.rcParams[\"figure.figsize\"] = [len(xAxisTicks)+5,len(xAxisTicks)+5]\n",
    "    plt.rcParams[\"figure.figsize\"] = [9,9]\n",
    "    \n",
    "    t = np.arange(0.01, 20.0, 0.01)\n",
    "    \n",
    "    fig, ax = plt.subplots()\n",
    "    \n",
    "    xRange = np.arange(len(xAxisTicks))\n",
    "    \n",
    "    ax.set_xticklabels(xAxisTicks, rotation=45, ha='left')\n",
    "    ax.set_xticks(xRange)\n",
    "    \n",
    "    h = plt.bar(xrange(len(xAxisTicks)), yAxisValues, label=xAxisTicks)\n",
    "    xticks_pos = [0.50*patch.get_width() + patch.get_xy()[0] for patch in h]\n",
    "    plt.xticks(xticks_pos, xAxisTicks,  ha='right', rotation=45)\n",
    "    \n",
    "    if logy:\n",
    "        #plt.semilogy(t, np.exp(-t/5.0))\n",
    "        plt.gca().set_yscale('log')\n",
    "        \n",
    "    plt.bar(xRange,yAxisValues,edgecolor=\"none\")\n",
    "\n",
    "    plt.show()"
   ]
  },
  {
   "cell_type": "markdown",
   "metadata": {},
   "source": [
    "### Graphing the data\n",
    "\n",
    "Finally, we call the summarizeAnnotations function which will graph the data based on the specified annotation ID, start location, end location, and chromosome."
   ]
  },
  {
   "cell_type": "code",
   "execution_count": 14,
   "metadata": {
    "collapsed": false
   },
   "outputs": [],
   "source": [
    "def graphAnnotations(startPosition, endPosition, chromosome, logy):\n",
    "    summarizeAnnotations(annotationSetId=annotationSet.id, start=int(startPosition), end=int(endPosition), chrom=chromosome, logy=logy)"
   ]
  },
  {
   "cell_type": "code",
   "execution_count": 15,
   "metadata": {
    "collapsed": false,
    "scrolled": false
   },
   "outputs": [
    {
     "data": {
      "image/png": "[encoded data removed]",
      "text/plain": [
       "<matplotlib.figure.Figure at 0x111d88ed0>"
      ]
     },
     "metadata": {},
     "output_type": "display_data"
    }
   ],
   "source": [
    "chromList=('1','2','3','4','5','6','7','8','9','10','11','12','13','14','15','16','17','18')\n",
    "\n",
    "elements = interact(graphAnnotations, \n",
    "           chromosome=chromList, \n",
    "           startPosition=\"12000\", \n",
    "           endPosition=\"14000\",\n",
    "           __manual=True,\n",
    "           logy=False);"
   ]
  },
  {
   "cell_type": "code",
   "execution_count": 7,
   "metadata": {
    "collapsed": false,
    "scrolled": true
   },
   "outputs": [],
   "source": [
    "#abc = c.searchVariantAnnotations(variantAnnotationSetId=annotationSet.id,\n",
    "                                            #start=12000,\n",
    "                                            #end=14000,\n",
    "                                            #referenceName='1',\n",
    "                                            #effects=[{\"term\": \"synonymous_variant\"}]\n",
    "                                            #).next()\n",
    "\n",
    "#print(abc)\n",
    "#print(abc.transcript_effects[0].effects[0].term)"
   ]
  },
  {
   "cell_type": "code",
   "execution_count": null,
   "metadata": {
    "collapsed": true
   },
   "outputs": [],
   "source": []
  }
 ],
 "metadata": {
  "kernelspec": {
   "display_name": "Python 2",
   "language": "python",
   "name": "python2"
  },
  "language_info": {
   "codemirror_mode": {
    "name": "ipython",
    "version": 2
   },
   "file_extension": ".py",
   "mimetype": "text/x-python",
   "name": "python",
   "nbconvert_exporter": "python",
   "pygments_lexer": "ipython2",
   "version": "2.7.11"
  },
  "widgets": {
   "state": {
    "00cac1b8a413424c934b86d1d4ccc7fa": {
     "views": []
    },
    "09201bc85d8140288075ae6e67dc9ee1": {
     "views": []
    },
    "0d4d23792a9a40ff8e444f313dbcb527": {
     "views": [
      {
       "cell_index": 10
      }
     ]
    },
    "16a9c7a0f7b54256804f97a1179c5b31": {
     "views": []
    },
    "44677436db084e03a6a34bd30d163a32": {
     "views": []
    },
    "67ecf8a40f9944819f50b96edac9a3a8": {
     "views": []
    },
    "6cdbd5d27fed47c78f6630db9f9b9b40": {
     "views": []
    },
    "76b5dac72878435689db1ed8eade7265": {
     "views": []
    },
    "9569181ffda643a5845cf3555c25f501": {
     "views": []
    },
    "9a0baa650a924897ab2cf8903fedde03": {
     "views": []
    },
    "a245fca3074a46c1ab9f32ccc17d1f0d": {
     "views": []
    },
    "b13f8278e89b4028abeef8146ced39c9": {
     "views": []
    },
    "c0c36cfec2dc44d485cddc46693c4390": {
     "views": []
    },
    "c6c174a575f84e1f82cc42ec11c60b7e": {
     "views": []
    },
    "cc018cc303ef47d8b17f8e0cb7dbb5b2": {
     "views": []
    },
    "cd0f122c43fc4c11acf64167673d0245": {
     "views": []
    },
    "ce7e2837b5c34af1b59fb48f8436bc11": {
     "views": []
    },
    "d1a0831b818e4d95b84d917df9a27141": {
     "views": []
    },
    "d2923822a8204bab8652c022fe8d9815": {
     "views": []
    },
    "d2a5d54018584f30b994b89092eefb21": {
     "views": []
    },
    "d3eb711a4ca5492ebad43d41319a378b": {
     "views": []
    },
    "dbeb8d12dfc64573ab3b1e4f958e12b8": {
     "views": []
    },
    "f88f6e105a0247f8a172dd53ff8a3bac": {
     "views": []
    },
    "ff4e98fda7854a62a0c89d57fb6f7984": {
     "views": []
    }
   },
   "version": "1.1.1"
  }
 },
 "nbformat": 4,
 "nbformat_minor": 0
}
