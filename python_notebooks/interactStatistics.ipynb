{
 "cells": [
  {
   "cell_type": "markdown",
   "metadata": {},
   "source": [
    "### Initialize the client\n",
    "\n",
    "As seen in the \"1kg.ipynb\" example, we take the following steps to create the client object that will be used to obtain the information we desire and query the server. Plotting tools are also imported here."
   ]
  },
  {
   "cell_type": "code",
   "execution_count": 84,
   "metadata": {
    "collapsed": false
   },
   "outputs": [],
   "source": [
    "import ga4gh.client as client\n",
    "c = client.HttpClient(\"http://1kgenomes.ga4gh.org\")\n",
    "\n",
    "import collections\n",
    "%matplotlib inline\n",
    "import matplotlib\n",
    "import numpy as np\n",
    "import matplotlib.pyplot as plt\n",
    "\n",
    "from __future__ import print_function\n",
    "from ipywidgets import interact, interactive, fixed\n",
    "import ipywidgets as widgets"
   ]
  },
  {
   "cell_type": "markdown",
   "metadata": {},
   "source": [
    "### Acquiring annotation set\n",
    "\n",
    "We query the server for the dataset, which is the 1k-genomes dataset. The dataset has a unique ID that can be used to acquire each variant set within the dataset. \n",
    "\n",
    "To access the different kinds of annotations, we access the annotation set using the unique variant set ID."
   ]
  },
  {
   "cell_type": "code",
   "execution_count": 97,
   "metadata": {
    "collapsed": false,
    "scrolled": false
   },
   "outputs": [],
   "source": [
    "dataset = c.searchDatasets().next()\n",
    "\n",
    "for variantSet in c.searchVariantSets(dataset.id):\n",
    "    #print(variantSet)\n",
    "    if variantSet.name == \"functional-annotation\":\n",
    "        annotation = variantSet\n",
    "\n",
    "annotationSet = c.searchVariantAnnotationSets(variantSetId=annotation.id).next()"
   ]
  },
  {
   "cell_type": "markdown",
   "metadata": {},
   "source": [
    "### Summarizing and storing annotation statistics\n",
    "\n",
    "This function lists and counts the different kinds of <a href=\"https://en.wikipedia.org/wiki/Bioinformatics#Genome_annotation\" target=\"_blank\">annotations</a> in the DNA sequence.\n",
    "\n",
    "These statistics are passed onto the graphing function, plotStatistics, in order to be graphed into different visual representations of the data."
   ]
  },
  {
   "cell_type": "code",
   "execution_count": 98,
   "metadata": {
    "collapsed": false
   },
   "outputs": [],
   "source": [
    "def summarizeAnnotations(annotationSetId=None, start=None, end=None, chrom=None, effects=None, logy=False):\n",
    "    termsAndCounts = collections.OrderedDict()\n",
    "    grandTotal = {}\n",
    "    typesOfAnnotations = 0\n",
    "    totalAnnotations = 0\n",
    "    \n",
    "    # The series of loops add the type of annotation (term.term) and the count of how many of this specific\n",
    "    # type of annotation are in the sequnce into the termsAndCounts dictionary.\n",
    "    for annotation in c.searchVariantAnnotations(annotationSetId, start=start, end=end, referenceName=chrom):\n",
    "        for eff in annotation.transcript_effects:\n",
    "            for term in eff.effects:\n",
    "                if term.term in termsAndCounts:\n",
    "                    termsAndCounts[term.term]['count'] += 1\n",
    "                    totalAnnotations += 1\n",
    "                else:\n",
    "                    termsAndCounts[term.term] = {}\n",
    "                    termsAndCounts[term.term]['count'] = 1\n",
    "                    totalAnnotations +=1\n",
    "    \n",
    "    for items in termsAndCounts:\n",
    "        typesOfAnnotations += 1\n",
    "    \n",
    "    # The final set of statistics in the dictionary are the count of how many unique annotations there are in the\n",
    "    # sequence and the grand total of annotations in the sequence.\n",
    "    grandTotal['statistics'] = {}\n",
    "    grandTotal['statistics']['types_of_annotations'] = typesOfAnnotations\n",
    "    grandTotal['statistics']['total_annotations'   ] = totalAnnotations\n",
    "    \n",
    "    #print(termsAndCounts.items)\n",
    "    orderedTermsAndCounts = collections.OrderedDict(sorted(termsAndCounts.items(), None, lambda x: x[1]['count']))\n",
    "    #print(\"termsAndCounts = \",termsAndCounts)\n",
    "    #print(\"grandTotal = \",grandTotal)\n",
    "    #print(\"orderedTermsAndCounts = \",orderedTermsAndCounts)\n",
    "    plotHistogram(orderedTermsAndCounts,logy)"
   ]
  },
  {
   "cell_type": "markdown",
   "metadata": {},
   "source": [
    "### Plotting statistics and making a histogram\n",
    "\n",
    "This function creates x/y-axis information based on the annotation data (the annotation terms and counts). It stores the data in specific way so that matplotlib can interpret it. After the data is organized, a histogram is made."
   ]
  },
  {
   "cell_type": "code",
   "execution_count": 99,
   "metadata": {
    "collapsed": false
   },
   "outputs": [],
   "source": [
    "def plotHistogram(annotationData,logy):\n",
    "    \n",
    "    xValues = [None]*(len(annotationData)+1)\n",
    "    yValues = [None]*(len(annotationData)+1)\n",
    "    \n",
    "    i=0\n",
    "    j=0\n",
    "    for items in annotationData:\n",
    "        for counts in annotationData[items]:\n",
    "            xValues[i] = items\n",
    "            yValues[i] = annotationData[items][counts]\n",
    "            i+=1\n",
    "        \n",
    "    xAxisTicks = xValues[:(len(annotationData))]\n",
    "    yAxisValues = yValues[:(len(annotationData))]\n",
    "    \n",
    "    #plt.rcParams[\"figure.figsize\"] = [len(xAxisTicks)+5,len(xAxisTicks)+5]\n",
    "    plt.rcParams[\"figure.figsize\"] = [9,9]\n",
    "    \n",
    "    t = np.arange(0.01, 20.0, 0.01)\n",
    "    \n",
    "    fig, ax = plt.subplots()\n",
    "    \n",
    "    xRange = np.arange(len(xAxisTicks))\n",
    "    \n",
    "    ax.set_xticklabels(xAxisTicks, rotation=45, ha='left')\n",
    "    ax.set_xticks(xRange)\n",
    "    \n",
    "    h = plt.bar(xrange(len(xAxisTicks)), yAxisValues, label=xAxisTicks)\n",
    "    xticks_pos = [0.65*patch.get_width() + patch.get_xy()[0] for patch in h]\n",
    "    plt.xticks(xticks_pos, xAxisTicks,  ha='right', rotation=45)\n",
    "    \n",
    "    if logy:\n",
    "        #plt.semilogy(t, np.exp(-t/5.0))\n",
    "        plt.gca().set_yscale('log')\n",
    "        \n",
    "    plt.bar(xRange,yAxisValues)\n",
    "\n",
    "    plt.show()"
   ]
  },
  {
   "cell_type": "markdown",
   "metadata": {},
   "source": [
    "### Graphing the data\n",
    "\n",
    "Finally, we call the summarizeAnnotations function which will graph the data based on the specified annotation ID, start location, end location, and chromosome."
   ]
  },
  {
   "cell_type": "code",
   "execution_count": 100,
   "metadata": {
    "collapsed": false
   },
   "outputs": [],
   "source": [
    "def graphAnnotations(startPosition, endPosition, chromosome, logy):\n",
    "    summarizeAnnotations(annotationSetId=annotationSet.id, start=int(startPosition), end=int(endPosition), chrom=chromosome, logy=logy)"
   ]
  },
  {
   "cell_type": "code",
   "execution_count": 101,
   "metadata": {
    "collapsed": false,
    "scrolled": true
   },
   "outputs": [
    {
     "data": {
      "image/png": "[encoded data removed]",
      "text/plain": [
       "<matplotlib.figure.Figure at 0x10599f510>"
      ]
     },
     "metadata": {},
     "output_type": "display_data"
    }
   ],
   "source": [
    "elements = interact(graphAnnotations, \n",
    "           chromosome=('1','2','3'), \n",
    "           startPosition=\"12000\", \n",
    "           endPosition=\"14000\",\n",
    "           __manual=True,\n",
    "           logy=False);"
   ]
  },
  {
   "cell_type": "code",
   "execution_count": 95,
   "metadata": {
    "collapsed": false,
    "scrolled": true
   },
   "outputs": [
    {
     "name": "stdout",
     "output_type": "stream",
     "text": [
      "intron_variant\n"
     ]
    }
   ],
   "source": [
    "abc = c.searchVariantAnnotations(variantAnnotationSetId=annotationSet.id,\n",
    "                                            start=12000,\n",
    "                                            end=14000,\n",
    "                                            referenceName='1',\n",
    "                                            #effects=[{\"term\": \"synonymous_variant\"}]\n",
    "                                            ).next()\n",
    "\n",
    "#print(abc)\n",
    "print(abc.transcript_effects[0].effects[0].term)"
   ]
  }
 ],
 "metadata": {
  "kernelspec": {
   "display_name": "Python 2",
   "language": "python",
   "name": "python2"
  },
  "language_info": {
   "codemirror_mode": {
    "name": "ipython",
    "version": 2
   },
   "file_extension": ".py",
   "mimetype": "text/x-python",
   "name": "python",
   "nbconvert_exporter": "python",
   "pygments_lexer": "ipython2",
   "version": "2.7.11"
  },
  "widgets": {
   "state": {
    "0506960800eb4f6296636c23d2674bdf": {
     "views": []
    },
    "05b9d1320e904c09ad49da69c413a856": {
     "views": []
    },
    "06ecb7ca8452472fabc0fff70d6a3b8d": {
     "views": []
    },
    "077861497c71430b8728140934b6716d": {
     "views": []
    },
    "0cb54d4770c4499ab4480797964fa35a": {
     "views": []
    },
    "0e75f57d97254a868942117c147e2fe8": {
     "views": []
    },
    "0f09ab4c63c544d39b5c78f0c1c92955": {
     "views": []
    },
    "10b50c69082b483cac3f840c97a4383d": {
     "views": []
    },
    "1122f8084dba464dac46745c43a8f2d8": {
     "views": []
    },
    "140888e65de54ee7ab4941c9e0c9ae27": {
     "views": []
    },
    "1484f715121c4ae19e0dd5911a70e8b1": {
     "views": []
    },
    "16855630f24243eaa35d42999af66f9f": {
     "views": []
    },
    "186a1feecd3a4bb0887f64429d269c96": {
     "views": []
    },
    "1b3983f7673e42d08c99350a605dc5b1": {
     "views": []
    },
    "1bc94b346dfb470b84075026e0110f45": {
     "views": []
    },
    "1ed24f3e4aeb40718b2a1bfa8e1fcad2": {
     "views": []
    },
    "1ed950d6e10a4d0689f904e71fcf19da": {
     "views": []
    },
    "22b2dec4ec7d4deda3c4e87ccb18d17a": {
     "views": []
    },
    "250b819653f74548a084ac378907aa30": {
     "views": []
    },
    "2534b70316b94cb6beaf8fd953e00cbb": {
     "views": []
    },
    "25ca33a2f0504aa59ce2ee95ef2b4f9d": {
     "views": []
    },
    "27b02240fd3f4c9a95723927db3aa6ed": {
     "views": []
    },
    "2bbe53d573134b4d9f128b9608609ba7": {
     "views": []
    },
    "2cc7454b5fab4af7bdfcbb9b8405ab4a": {
     "views": []
    },
    "30e95a81bac840c9850fb9e545bb13e2": {
     "views": []
    },
    "31467aebfc424adeb076782349bfc7fa": {
     "views": []
    },
    "330d7df444f84fea8f60b361acfb585c": {
     "views": []
    },
    "337f8d3057da44f2b6c59dbada552132": {
     "views": []
    },
    "340604e886ae4b629f5e538920317196": {
     "views": []
    },
    "34579e7193ec4e7290addd8b985d8d9f": {
     "views": []
    },
    "350142229cdd448e976531eea64cea4e": {
     "views": []
    },
    "37b8bf454cbb4ebc9ba6606ab823fc3a": {
     "views": []
    },
    "3a6dae6028894cedbe0b6fcebdf7ece6": {
     "views": []
    },
    "3b36a1e0fab34a57a0a7038648d3ab5c": {
     "views": []
    },
    "3c6e03e2d7544c2884fb3288038b0d79": {
     "views": []
    },
    "3ee66d1e19bf40c59132b1aa640ee314": {
     "views": []
    },
    "3f539995d2c6489aab1a811d8e785d2e": {
     "views": []
    },
    "4020f4d1545c4357bffd6d43f0cfd00b": {
     "views": []
    },
    "41d07a1223d044bd8377fa8cee78a389": {
     "views": []
    },
    "41efacc25cf84eb18ec748c6519b41f7": {
     "views": []
    },
    "42275aec671a49d8986cf378fda2a898": {
     "views": []
    },
    "427513fe318e40109b878829f81f6bc8": {
     "views": []
    },
    "43c30db3a76f4cd1a8efc70b1660b2b6": {
     "views": []
    },
    "458d884665224ef682bdd63695dec89f": {
     "views": []
    },
    "47a9289b171c4564a0066f70e58ec6c8": {
     "views": []
    },
    "48e5cd00b66a4836877d63ff47a93f4f": {
     "views": []
    },
    "49161dba36d04cef92812a9b97062fd4": {
     "views": []
    },
    "4930c8bd623843d0ad8225a7ba9e9b30": {
     "views": []
    },
    "494035ec022c440c9ace2c5d19f7b22d": {
     "views": []
    },
    "4a3b9fb9ff1d4da7ae5f31fe97895d1a": {
     "views": []
    },
    "4b5ff45b2504462099ebb0c9a25b1b28": {
     "views": []
    },
    "4bcd334ea5d1434e830e31ec5486f39d": {
     "views": []
    },
    "4c2cf8f6d7a04568953ac768b9b041c7": {
     "views": []
    },
    "4c59f5931a6c4cc19b09424419f8000b": {
     "views": []
    },
    "4d698cfdfd8c4caa883b00076877b59c": {
     "views": []
    },
    "4dd1e83f5ced489dbd04854a21803db4": {
     "views": []
    },
    "4e6c6f37a9f3463083e800334c1adf93": {
     "views": []
    },
    "52acb37d54a249c08315ada8917d1431": {
     "views": []
    },
    "52db66c308b342db87f33cdd250c7433": {
     "views": []
    },
    "53e7dd4ceeb045e699bcd1dc55f18160": {
     "views": []
    },
    "53fdd5cda02e404e857d3786398d331c": {
     "views": []
    },
    "55b00ef6fb5348a494177d6e18103fc3": {
     "views": []
    },
    "57cc63592d4d4b0fb498cadfb9f19d8a": {
     "views": []
    },
    "57d65c7d548a4062a574228b8c123b73": {
     "views": []
    },
    "5a599667bf5843da9518d080ee0d395e": {
     "views": []
    },
    "5c868ae232064e2987e8bfcd69b536e4": {
     "views": []
    },
    "5ca41d550ef84e0bbc30c0cb62f52856": {
     "views": []
    },
    "5d5b483998c74a2eaa3fd6e9530db388": {
     "views": []
    },
    "5dd05b95822c452caf10b3e4827b0388": {
     "views": []
    },
    "61813733ad5e4f8c8dd1cf7727b28af7": {
     "views": []
    },
    "640262a4453f4955a12fe88b8b35127a": {
     "views": []
    },
    "652df6a4a6d54b8ea5f45e9a62677ebf": {
     "views": []
    },
    "68411628561643f1873abe9c9748d763": {
     "views": [
      {
       "cell_index": 11
      }
     ]
    },
    "68d522ed38d846e8b832121bf4b82caf": {
     "views": []
    },
    "6a5b95ac6e9c45079b827db16e5ea547": {
     "views": []
    },
    "6b198704305849d1aba3589a7dcca19d": {
     "views": []
    },
    "6c000e86437c441e918b4b751c229903": {
     "views": []
    },
    "6c45e57d1cc8422aa28e0e8e4b434d67": {
     "views": []
    },
    "6cec8b40a2bd40adbce77e0c4f697770": {
     "views": []
    },
    "6d3afd5878d54c2abb8d834156658940": {
     "views": []
    },
    "6dd4d386d8e9443bae69087feac9555c": {
     "views": []
    },
    "6f3972abe0284f3085c1fde1685bb2e2": {
     "views": []
    },
    "6f7b4cd7246f4c5a93ce42e89ff8ba24": {
     "views": []
    },
    "6f9084c3aace4d4d9d572326620789fa": {
     "views": []
    },
    "70094c95d691416a826ee421ec6aa61a": {
     "views": []
    },
    "7029caf9634f47f193f011f5c53973a8": {
     "views": []
    },
    "70b88c57c5d24d8a861c93fb7962b3a7": {
     "views": []
    },
    "71298074b7c94e898709689b60208c83": {
     "views": []
    },
    "77910668c0664c37b5c75f3540f64efc": {
     "views": []
    },
    "784baf5131714a05b5dadfa6db9f7a2b": {
     "views": []
    },
    "7a0b728aa9254d56a5c63d82c9947ae9": {
     "views": []
    },
    "7aaed33eb40a42519fde58ac7034916c": {
     "views": []
    },
    "7c699a88072b4876ab8fb923e2338c5e": {
     "views": []
    },
    "7d1eb786e1d146898fd7cc5255e704af": {
     "views": []
    },
    "7d346979aaca4822a95d984d215a4047": {
     "views": []
    },
    "7e13c075e10540599de54c8641e144e9": {
     "views": []
    },
    "7f48915bdb03494f9744fa40b4a5d8e1": {
     "views": []
    },
    "7faafc7df14c46078930b196ab782bef": {
     "views": []
    },
    "7fe28595cc6141fcbde9a31deaf6d314": {
     "views": []
    },
    "814f9b9dd3e64ef480077e15ff9608a9": {
     "views": []
    },
    "81e08163e16549048f825f2a623ea99c": {
     "views": []
    },
    "8276da907ba74fb88dc30570e2bd2bfd": {
     "views": []
    },
    "853f9b2f3c6549efad7a5e78294ff814": {
     "views": []
    },
    "8a047e3408744cc09cf6cf046067d703": {
     "views": []
    },
    "8c185e1464c243beac9a7b031e5f8898": {
     "views": []
    },
    "8c6e80bccd384e9aa9d29ce5ed8203a6": {
     "views": []
    },
    "8e63eb53bc6642a8add11a0cec35d79b": {
     "views": []
    },
    "9098ef7faf9b4941b15715de689b99a3": {
     "views": []
    },
    "91b3634014b6447a806d4e09692ae9bb": {
     "views": []
    },
    "920fbc0fbcc548e0b147ad2c235e6be2": {
     "views": []
    },
    "94f4c9f7009944a094ed032501745525": {
     "views": []
    },
    "9564a9b1ae9d4b92b81f48d530db4ca2": {
     "views": []
    },
    "9701df7f5ba44ff8ae635f704fd23e0f": {
     "views": []
    },
    "98a76d93761e4a7c96a907ef6167a05f": {
     "views": []
    },
    "993c0259d6864d58b33263fbade16bd4": {
     "views": []
    },
    "99d26e2982be43569d87a3381ca3b04a": {
     "views": []
    },
    "9b1e5045937d4c6c9ea9ccbbd201b97e": {
     "views": []
    },
    "9df13aa48ece442bb97abc5cdad38ac6": {
     "views": []
    },
    "9eb2f698536f49dea8d4de2db392d94b": {
     "views": []
    },
    "9edc74d9ee6b4b529f5221abbfa11543": {
     "views": []
    },
    "a0b1d2b8068d49c5a829e3d8a9cc0db3": {
     "views": []
    },
    "a2f953a1320043f7820906c32c411b50": {
     "views": []
    },
    "a3d4a343724b4381a3b6597547e6e7e3": {
     "views": []
    },
    "a4bf709e39794dba82110cceed732a12": {
     "views": []
    },
    "a595707ccfcc428d97cd695765fb3b11": {
     "views": []
    },
    "a75aa097665b45d0bb49483ea1c07611": {
     "views": []
    },
    "a7e36d06ee304bf08f67ac11152ef7a4": {
     "views": []
    },
    "a983405910db4f24b9132a664e063a2d": {
     "views": []
    },
    "a9c6e4acc7d9496b9686e8f8fb253435": {
     "views": []
    },
    "b043712b0f0549c79acbda0abb5cacf0": {
     "views": []
    },
    "b18eae85a12c4b6a9199ad3eb97531c7": {
     "views": []
    },
    "b1aa691ee98a4dc8a0a2bd3a6df55fd1": {
     "views": []
    },
    "b1c5241b8f8d45f48810549d1749d9fb": {
     "views": []
    },
    "b2e6cf89d55441f683da78e3daeda1e5": {
     "views": []
    },
    "b34ae2cc1e294c59be096cfc84235632": {
     "views": []
    },
    "b3bf35a3118d4f0791e9fd38ddfc1a34": {
     "views": []
    },
    "b5d190624fab4ef29e41c1fb40fecad1": {
     "views": []
    },
    "b84767dddc5248749bdd19f21b31417c": {
     "views": []
    },
    "b85609f4ebc644a2a0883faaa2a5dd92": {
     "views": []
    },
    "b96907747a4a49618370ba00535d0519": {
     "views": []
    },
    "bd73674482804102ba05dd92ee164912": {
     "views": []
    },
    "bf7c5537b21148178aa0dc13e91a5966": {
     "views": []
    },
    "bfcacc6e6f0b4eee9d602bbd46bcdcc9": {
     "views": []
    },
    "c093b8fce2214148b66a282856a21278": {
     "views": []
    },
    "c0c454b6253341a99b76604f542e2f7b": {
     "views": []
    },
    "c1c986fff0b64c8b939160b20ca0b716": {
     "views": []
    },
    "c266e251285e429484994b3f3d54b271": {
     "views": []
    },
    "c4e37facbbcc4f25a5c061319901e2a7": {
     "views": []
    },
    "c5829e81f98342dbaad875559c78d06b": {
     "views": []
    },
    "c717153e6cc242d986f7f5200df8f66c": {
     "views": []
    },
    "c7cd1404b98144139796d3a650aa086c": {
     "views": []
    },
    "cb7c555060464d31b71a00d78f8c3aaa": {
     "views": []
    },
    "cc9a6046fab94ac98ed1dc3b76d56ba0": {
     "views": []
    },
    "cd4e820f3e734d369e9d4ac048cb04c8": {
     "views": []
    },
    "cdcc196d421342be9d79e646953a9545": {
     "views": []
    },
    "ce0e70bb24e3471e988090e8bcc7f911": {
     "views": []
    },
    "d172752fdca3434f9c13e64401856cb0": {
     "views": []
    },
    "d3609aadf3994fb4990d7020cae48158": {
     "views": []
    },
    "d5bd84e5ee2444c6bb0982e20af51414": {
     "views": []
    },
    "d67d421c1bbb4eec967f49535dc31da8": {
     "views": []
    },
    "d8d85e52732a40eba62512bdd25a650d": {
     "views": []
    },
    "d9258c0141a04a2e9b56fc4aa5a4006d": {
     "views": []
    },
    "df24263a4a6e4d48a03163d516cac99f": {
     "views": []
    },
    "e4ed6a0cadd249ff9c9063c4c5c2f0fc": {
     "views": []
    },
    "e4ff7d015ae747d98ef01652cc2151ee": {
     "views": []
    },
    "e9b0b59745ae4889b6e15451a9eaeaaa": {
     "views": []
    },
    "ebcb0f42b6a3476ab337b1bc718a8920": {
     "views": []
    },
    "ebd84890d30846f08427c6d81011b5d5": {
     "views": []
    },
    "ec46bc9a9a034d15b8ee409a08938bee": {
     "views": []
    },
    "ef423d9eab0945db9913c7cc723394df": {
     "views": []
    },
    "f11ba729ceb5404cb84a65a64acf707d": {
     "views": []
    },
    "f18fe138f1fb44d8b971fdce6e8c0301": {
     "views": []
    },
    "f4ce7033a6bb4fb1a37b4bd6d55ccc71": {
     "views": []
    },
    "f5d654c1997148baa32a86128fc5b782": {
     "views": []
    },
    "f650d4a5508b43138558ade0623f2068": {
     "views": []
    },
    "f6fe0b726220479b964a05a23cb030c1": {
     "views": []
    },
    "f9b1132033f1409f8eaf099e5ee20b0c": {
     "views": []
    },
    "fabfb9879c3f48debfb0fae93c63ad2b": {
     "views": []
    },
    "fc56bff5b39d4945a674239e42bcb5c6": {
     "views": []
    },
    "fcad05a6b3da4eb692e02d4fa7e6ad48": {
     "views": []
    },
    "fe05e51f48294265bfd50fc7f73b5db9": {
     "views": []
    },
    "fe5f8a70ff8c456ca258b65bdbced138": {
     "views": []
    }
   },
   "version": "1.1.1"
  }
 },
 "nbformat": 4,
 "nbformat_minor": 0
}
