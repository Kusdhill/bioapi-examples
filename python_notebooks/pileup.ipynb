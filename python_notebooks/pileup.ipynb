{
 "cells": [
  {
   "cell_type": "markdown",
   "metadata": {},
   "source": [
    "\n",
    "# Query for pile-up allignments at region \"X\"\n",
    "\n",
    "We can query the API services to obtain reads from a given readgroupset such that we are able to make a pileup for any specified region"
   ]
  },
  {
   "cell_type": "markdown",
   "metadata": {},
   "source": [
    "### NOTE: Under the \"Kernel\" tab above, do \"Restart & Run All\" then uncomment the first cell and run it individually"
   ]
  },
  {
   "cell_type": "code",
   "execution_count": 8,
   "metadata": {
    "collapsed": false,
    "scrolled": false
   },
   "outputs": [],
   "source": [
    "#Widget()"
   ]
  },
  {
   "cell_type": "markdown",
   "metadata": {},
   "source": [
    "### Description:\n",
    "Note that the understanding of 3 terms allows for a complete/useful way to use this notebook. Now, the terminology is adapted to my understanding and therefore the expressions that I present might be incomplete or not strictly as defined by science. \n",
    "\n",
    "First, our input takes the \"position\" argument which it is a unique position in the genome. It is necessary to specify which position wants to be observed because when we query the server for reads, it takes a starting and an ending position to return the set of data that spans our region of interest.  \n",
    "Second, the \"Read Groupset Names\" are specific subjects which had their genome sequenced on the 1k genomes project. The data rests on the server in the form of read sets, which will be defined later on.    \n",
    "Third, the “Reference Set Name” is a group of contiguous defined regions in the genome, which I refer to as chromosomes, but according to the 1k genomes website, there is more than just the 23-regular chromosomal expressions. Therefore I can only assume that other regions or references have been defined. \n",
    "\n",
    "A set of reads is the data provided by the sequencer in the form of contiguous alleles. It is natural to observe multiple reads which overlap in a particular region, as well as reads which cover the same area. But that only adds on to the certainty of the statistics which determine the allele occurrence in a given position, that is, the purpose of Pileup. Also, variants are a set of alleles that differ from the reference bases and they are known as SNPs (Single Nucleotide Polymorphisms).\n",
    "\n",
    "Pileup is a set of functions which do inner-mutual calls to obtain the fields previously defined. After the specific set of reads that span the region of interest have been obtained, we proceed to dissect the specific position of interest. We stack them in a counter dictionary which is then passed to a function that does the frequency calculation and finishes by returning the alleles observed as well as their individualized frequency. When the functions detect that the highest frequency allele differs from the reference bases, there is a call to the variant set to obtain the name, the position at which it starts, the alternate bases, and the genotype. Finally, it is plotted in a pie chart with the proper distribution of frequency."
   ]
  },
  {
   "cell_type": "markdown",
   "metadata": {},
   "source": [
    "### Initialize the client\n",
    "\n",
    "As seen in the \"1kg.ipynb\" example, we take the following steps to create the client object that will be used to obtain the information we desire and query the serever "
   ]
  },
  {
   "cell_type": "code",
   "execution_count": 9,
   "metadata": {
    "collapsed": true
   },
   "outputs": [],
   "source": [
    "import ga4gh.client as client\n",
    "c = client.HttpClient(\"http://1kgenomes.ga4gh.org\")"
   ]
  },
  {
   "cell_type": "markdown",
   "metadata": {},
   "source": [
    "### Make reference to the data from the server\n",
    "\n",
    "We query the server for the dataset, which is the 1k-genomes dataset.\n",
    "We access the bases of reference, followed by listingthe reference sets."
   ]
  },
  {
   "cell_type": "code",
   "execution_count": 12,
   "metadata": {
    "collapsed": false
   },
   "outputs": [],
   "source": [
    "dataset = c.search_datasets().next()\n",
    "referenceSet = c.search_reference_sets().next()\n",
    "references = [r for r in c.search_references(reference_set_id = referenceSet.id)]"
   ]
  },
  {
   "cell_type": "markdown",
   "metadata": {},
   "source": [
    "### ReferenceSet Name (chromosome) & ReadGroupSet Reads\n",
    "We define our contiguous sequence with a chromosome reference, and then make a reference array for our read group sets of read groups."
   ]
  },
  {
   "cell_type": "code",
   "execution_count": 13,
   "metadata": {
    "collapsed": true
   },
   "outputs": [],
   "source": [
    "contig ={}\n",
    "for i in references:\n",
    "    contig[i.name] = str(i.id)"
   ]
  },
  {
   "cell_type": "markdown",
   "metadata": {},
   "source": [
    "### Functions to obtain ReadGroupSet ID by name. \n",
    "We can obtain a set of reads for a given Read-Group. The set of reads is returned in the 'rgs' variable below. "
   ]
  },
  {
   "cell_type": "code",
   "execution_count": 14,
   "metadata": {
    "collapsed": true
   },
   "outputs": [],
   "source": [
    "def GetReadsForName(Name):\n",
    "    Name = str(Name)\n",
    "    if type(getReadGroupsByReadGroupSetName(Name)) == str:\n",
    "        return getReadGroupsByReadGroupSetName(Name)\n",
    "    else:\n",
    "        return [i for i in getReadGroupsByReadGroupSetName(Name)]\n",
    "    \n",
    "def readGroupSetByName(name):\n",
    "    result = None\n",
    "    for rgs in c.searchReadGroupSets(name=name, datasetId=dataset.id):\n",
    "        return rgs\n",
    "    return result\n",
    "\n",
    "def getReadGroupsByReadGroupSetName(readGroupSetName):\n",
    "    if None == readGroupSetByName(readGroupSetName):\n",
    "        return \"Sorry, bad request for {}\".format(readGroupSetName)\n",
    "    else:\n",
    "        return readGroupSetByName(readGroupSetName).read_groups"
   ]
  },
  {
   "cell_type": "markdown",
   "metadata": {
    "collapsed": false
   },
   "source": [
    "### Function to call multiple ReferenceSets. \n",
    "Because some calls such as Variants, Reference Bases, and Reads require this field to return the region that wants to be analyzed. Also note, that it is a required input of this service.  "
   ]
  },
  {
   "cell_type": "code",
   "execution_count": 15,
   "metadata": {
    "collapsed": true
   },
   "outputs": [],
   "source": [
    "def chrfunct(Chromo):\n",
    "    chr1 = filter(lambda x: x.name == str(Chromo), references)[0]\n",
    "    return chr1"
   ]
  },
  {
   "cell_type": "markdown",
   "metadata": {},
   "source": [
    "### Cigar-Unit interpreter function.\n",
    "This function can be expanded in the sense that, INDELS are detected in this function. With more specifications this Pile-Up program with this function can be extended to also detect such variants. Also note that only 4 cigar operations are specified, because they were the only operations specified in the reads. \n"
   ]
  },
  {
   "cell_type": "code",
   "execution_count": 16,
   "metadata": {
    "collapsed": false
   },
   "outputs": [],
   "source": [
    "def Cigar_Interpreter(Sequence, observe, ReferBase):\n",
    "    Temp = 0\n",
    "    BaseCounter = 0\n",
    "    Variant = \"\"\n",
    "    AligSeq = Sequence.aligned_sequence\n",
    "    InterpArr = list([])\n",
    "    Iter = 0\n",
    "    for i in Sequence.alignment.cigar:\n",
    "        Length = i.operation_length\n",
    "        if i.Operation.Name(i.operation) == \"ALIGNMENT_MATCH\":\n",
    "            InterpArr[len(InterpArr):len(InterpArr)+Length] = AligSeq[Temp:Temp+Length]\n",
    "            Temp += Length \n",
    "            BaseCounter += Length\n",
    "            \n",
    "        elif i.Operation.Name(i.operation) == \"CLIP_SOFT\":\n",
    "            Temp += Length\n",
    "            \n",
    "     \n",
    "        elif i.Operation.Name(i.operation) == \"DELETE\":\n",
    "            int_iter = 0\n",
    "            for i in range(Length):\n",
    "                InterpArr[len(InterpArr) : len(InterpArr)+1] = \"N\"\n",
    "                BaseCounter += 1\n",
    "                int_iter += 1\n",
    "                if BaseCounter == observe:\n",
    "                    Variant = ReferBase[BaseCounter:BaseCounter+int_iter]\n",
    "                    return Variant\n",
    "                \n",
    "        elif i.Operation.Name(i.operation) == \"INSERT\":\n",
    "            for i in range(Length):\n",
    "                InterpArr[len(InterpArr):len(InterpArr)+1] = AligSeq[Temp : Temp+1]\n",
    "                Temp += 1\n",
    "                if (Temp == observe) and (len(InterpArr) >= Temp+Length+1):\n",
    "                    Variant = \"\".join(InterpArr[Temp:Temp+Length+1])\n",
    "                    return Variant\n",
    "            \n",
    "        Iter += 1\n",
    "    if (Temp >= observe) and (len(Sequence.alignment.cigar) == Iter) :\n",
    "            return InterpArr[observe]\n",
    "    else: \n",
    "        return \"N\"    \n",
    "    \n",
    "    \n",
    "  "
   ]
  },
  {
   "cell_type": "markdown",
   "metadata": {},
   "source": [
    "### Variant Call Function\n",
    "If the pile-up detects that the dominant allele frequency, defers from the reference bases, this function will be call and query the server for that variant."
   ]
  },
  {
   "cell_type": "code",
   "execution_count": 17,
   "metadata": {
    "collapsed": false
   },
   "outputs": [],
   "source": [
    "def find_variants(Start, End, RdGrpSetName, ChromoSm):\n",
    "    for variantSet in c.searchVariantSets(datasetId=dataset.id):\n",
    "        if variantSet.name == \"phase3-release\":\n",
    "            release = variantSet\n",
    "    \n",
    "    for callSet in c.searchCallSets(variantSetId= release.id, name= str(RdGrpSetName)):\n",
    "        mycallset = callSet\n",
    "   \n",
    "    for variant in c.searchVariants(release.id, referenceName=ChromoSm, start=Start, end=End, callSetIds=[mycallset.id]):\n",
    "        if len(variant.alternate_bases[0]) == 1 and len(variant.reference_bases) == 1:\n",
    "            print \"\\nA VARIANT WAS FOUND\"\n",
    "            print \"Variant Name: {}, Start: {}, End: {} \\nAlternate Bases: {} \\nGenotypes: {}\".format(str(variant.names[0]), str(variant.start), str(variant.end), str(variant.alternate_bases[0]), str(variant.calls[0].genotype))\n",
    "            return \n",
    "    return False"
   ]
  },
  {
   "cell_type": "markdown",
   "metadata": {},
   "source": [
    "### Pile up function\n",
    "This function calculates the pile up's for a given region, that is the position being observed. It takes as input the chromosome reference and the Read-Groups to obtain the needed aligned sequence. "
   ]
  },
  {
   "cell_type": "code",
   "execution_count": 18,
   "metadata": {
    "collapsed": false
   },
   "outputs": [],
   "source": [
    "def pileUp(contig, position, rgset, Chromosm):\n",
    "    alleles = []\n",
    "    rgset = GetReadsForName(rgset)\n",
    "    if type(rgset) != str:\n",
    "        for i in rgset:\n",
    "            for sequence in c.searchReads(readGroupIds=[i.id],start = position, end = position+1, referenceId=contig):\n",
    "                if sequence.alignment != None:\n",
    "                    start = sequence.alignment.position.position\n",
    "                    observe = position - sequence.alignment.position.position\n",
    "                    end = start+len(sequence.aligned_sequence)\n",
    "                    \n",
    "                    if observe > 100 or observe < 0:\n",
    "                        continue\n",
    "                    \n",
    "                    if len(sequence.alignment.cigar) > 1:\n",
    "                        allele = Cigar_Interpreter(sequence, observe,c.listReferenceBases(chrfunct(Chromosm).id, start=start, end= end))      \n",
    "                    else:\n",
    "                        allele = sequence.aligned_sequence[observe]\n",
    "                        \n",
    "                    alleles.append({\"allele\": str(allele), \"readGroupId\":i.id})\n",
    "        return Calc_Freq(alleles)\n",
    "    \n",
    "    else:\n",
    "        return rgset"
   ]
  },
  {
   "cell_type": "markdown",
   "metadata": {},
   "source": [
    "### Function to calculate occurrence frequency\n",
    "The frequency is obtained from the occurrence of alleles in the observed position for all the reads which are mapped in that region. This function returns an array of occurrence alleles as well as their individualized frequency compared to all the reads detected. "
   ]
  },
  {
   "cell_type": "code",
   "execution_count": 19,
   "metadata": {
    "collapsed": false,
    "scrolled": false
   },
   "outputs": [],
   "source": [
    "def Calc_Freq(Test):\n",
    "    tot = len(Test)\n",
    "    AutCalc = {}\n",
    "    Arr = []\n",
    "    for i in range(tot):\n",
    "        if AutCalc.has_key(Test[i][\"allele\"]) == False and (Test[i]['allele'] != \"N\"):\n",
    "            AutCalc.setdefault(Test[i][\"allele\"], 1)\n",
    "            Arr.append(Test[i]['allele'])\n",
    "        else:\n",
    "            if Test[i]['allele'] == \"N\":\n",
    "                tot -= 1\n",
    "            else:\n",
    "                AutCalc[Test[i][\"allele\"]] = float(AutCalc.get(Test[i][\"allele\"]) + 1)\n",
    "    Freq = {}\n",
    "    print \"\\n{} Reads where used, to determine pile-up\".format(tot) \n",
    "    tot = float(tot)\n",
    "    for i in Arr:\n",
    "        Freq.setdefault(i,float(AutCalc.get(i)/tot))\n",
    "    return Freq"
   ]
  },
  {
   "cell_type": "markdown",
   "metadata": {},
   "source": [
    "### Precursor function\n",
    "This function prepares the Read-Group set and does the inner calls, it also calls and obtains the reference bases. Note that only if the calls are correct will the function continue to make the calculations and inner calls. "
   ]
  },
  {
   "cell_type": "code",
   "execution_count": 20,
   "metadata": {
    "collapsed": false
   },
   "outputs": [],
   "source": [
    "def Variant_Comp(Position, ReadGroupSetName, Chromosm):\n",
    "    RdGrp = GetReadsForName(ReadGroupSetName)\n",
    "    Chrm = contig.get(Chromosm, None) \n",
    "    if (Chrm != None) and type(RdGrp) != (str) :\n",
    "        base = c.listReferenceBases(Chrm, start = Position, end = Position+1)\n",
    "        var = pileUp(Chrm, Position, ReadGroupSetName, Chromosm)\n",
    "        return (str(base), var)\n",
    "    else:\n",
    "        if RdGrp == None:\n",
    "            print\"Read Group Set '{}' is not in the API\".format(ReadGroupSetName)\n",
    "        else:\n",
    "            print\"Chromosome '{}' is not in the API\".format(Chromosm)"
   ]
  },
  {
   "cell_type": "markdown",
   "metadata": {},
   "source": [
    "### Plotting Function\n",
    "This function plots, the information obtained by the others. It obtains the reference base and denotes it. It also obtains the frequencies and plots them in a pie chart. "
   ]
  },
  {
   "cell_type": "code",
   "execution_count": 21,
   "metadata": {
    "collapsed": false
   },
   "outputs": [],
   "source": [
    "def plot_vars(Position, RdGrpName, Chromo):\n",
    "    %matplotlib inline\n",
    "    import matplotlib.pyplot as plt\n",
    "    Refer, Freqs = Variant_Comp(int(Position), str(RdGrpName),str(Chromo))\n",
    "    labels = Freqs.keys()\n",
    "    sizes = Freqs.values()\n",
    "    colors = ['yellowgreen', 'gold', 'lightskyblue', 'lightcoral']\n",
    "    Expl= {}\n",
    "    Legend = []\n",
    "    print \"Reference Bases:\", Refer\n",
    "    for i in labels:\n",
    "        if Freqs.get(i) != max(sizes):\n",
    "            find_variants(int(Position), int(Position)+1, str(RdGrpName), str(Chromo))\n",
    "            Expl.setdefault(i, .15)\n",
    "            Legend.append(\"{}: {} %\".format(i, str(Freqs.get(i)*100)[:4]))\n",
    "        elif i == Refer:\n",
    "            Expl.setdefault(i,0.8)\n",
    "            Legend.append(\"{}: {} %\".format(i, str(Freqs.get(i)*100)[:4]))\n",
    "        else:\n",
    "            Expl.setdefault(i,0.0)\n",
    "            Legend.append(\"{}: {} %\".format(i, str(Freqs.get(i)*100)[:4]))\n",
    "    explode = Expl.values()\n",
    "\n",
    "    plt.pie(sizes, explode=explode, labels=labels, colors=colors,autopct='%1.1f%%', shadow=True, startangle=0)\n",
    "    plt.axis('equal')\n",
    "    plt.legend(['%s' % str(x) for x in (Legend)])\n",
    "    plt.show()"
   ]
  },
  {
   "cell_type": "markdown",
   "metadata": {},
   "source": [
    "## Widget Interface Setup\n",
    "This function calls the previous one, and sets up the interface so that it is an active application. The following one, will begin the query and plotting process."
   ]
  },
  {
   "cell_type": "code",
   "execution_count": 22,
   "metadata": {
    "collapsed": false
   },
   "outputs": [],
   "source": [
    "def Widget():\n",
    "    from ipywidgets import widgets\n",
    "    from ipywidgets import interact\n",
    "    from IPython.display import display\n",
    "    \n",
    "    t0 = widgets.Text(value=\"Position Exaple:  '120394'\", disabled=True)\n",
    "    text0 = widgets.Text()\n",
    "    t1 = widgets.Text(value=\"ReadGroupName Example:  'NA19102'\", disabled=True)\n",
    "    text1 = widgets.Text()\n",
    "    t2 = widgets.Text(value= \"ReferenceSets Example:  '1'\", disabled=True)\n",
    "    text2 = widgets.Text()\n",
    "    display(t0, text0, t1, text1, t2, text2)\n",
    "    button = widgets.Button(description=\"Submit\")\n",
    "    exit = widgets.Button(description=\"Exit\")\n",
    "    display(button, exit)\n",
    "    \n",
    "    \n",
    "    def exitFunct(c):\n",
    "        import sys\n",
    "        sys.exit([\"Thank you, you have exited the function\"]) \n",
    "    \n",
    "    def Submit(sender):\n",
    "        Pos, RgSetNm, Chrom = text0.value, text1.value, text2.value\n",
    "        chr1 = chrfunct(Chrom)\n",
    "        plot_vars(Pos, RgSetNm, Chrom)\n",
    "        \n",
    "\n",
    "    def button_clicked(b):\n",
    "        print \"Position: {}, ReadGrpSet: {}, Chrom: {}\".format(text0.value, text1.value, text2.value)\n",
    "        Submit(b)    \n",
    "\n",
    "    button.on_click(button_clicked)\n",
    "    exit.on_click(exitFunct)"
   ]
  },
  {
   "cell_type": "code",
   "execution_count": null,
   "metadata": {
    "collapsed": true
   },
   "outputs": [],
   "source": []
  }
 ],
 "metadata": {
  "kernelspec": {
   "display_name": "Python 2",
   "language": "python",
   "name": "python2"
  },
  "language_info": {
   "codemirror_mode": {
    "name": "ipython",
    "version": 2
   },
   "file_extension": ".py",
   "mimetype": "text/x-python",
   "name": "python",
   "nbconvert_exporter": "python",
   "pygments_lexer": "ipython2",
   "version": "2.7.11"
  },
  "widgets": {
   "state": {},
   "version": "1.1.1"
  }
 },
 "nbformat": 4,
 "nbformat_minor": 0
}
