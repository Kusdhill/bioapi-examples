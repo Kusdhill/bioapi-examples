{
 "cells": [
  {
   "cell_type": "code",
   "execution_count": 1,
   "metadata": {
    "collapsed": true
   },
   "outputs": [],
   "source": [
    "import ga4gh.client as client\n",
    "c = client.HttpClient(\"http://1kgenomes.ga4gh.org\")\n",
    "\n",
    "import collections"
   ]
  },
  {
   "cell_type": "code",
   "execution_count": 2,
   "metadata": {
    "collapsed": false
   },
   "outputs": [],
   "source": [
    "dataset = c.search_datasets().next()\n",
    "\n",
    "for functionalVariantSet in c.search_variant_sets(dataset.id):\n",
    "    if functionalVariantSet.name == \"functional-annotation\":\n",
    "        functionalAnnotation = functionalVariantSet\n",
    "\n",
    "functionalAnnotationSet = c.search_variant_annotation_sets(variant_set_id=functionalAnnotation.id).next()"
   ]
  },
  {
   "cell_type": "code",
   "execution_count": 3,
   "metadata": {
    "collapsed": false
   },
   "outputs": [
    {
     "name": "stdout",
     "output_type": "stream",
     "text": [
      "BRCA1\n"
     ]
    }
   ],
   "source": [
    "geneList = []\n",
    "\n",
    "geneAndTermDict = collections.OrderedDict()\n",
    "\n",
    "geneAndTermDict['name'] = 'BRCA1'\n",
    "geneAndTermDict['start'] = 43044295\n",
    "geneAndTermDict['end'] = 43170245\n",
    "geneAndTermDict['chrome'] = '17'\n",
    "geneAndTermDict['term'] = 'SO:0001630'\n",
    "\n",
    "geneList.append(geneAndTermDict)\n",
    "\n",
    "\n",
    "print(geneList[0]['name'])"
   ]
  },
  {
   "cell_type": "code",
   "execution_count": 4,
   "metadata": {
    "collapsed": false,
    "scrolled": false
   },
   "outputs": [
    {
     "name": "stdout",
     "output_type": "stream",
     "text": [
      "[u'splice_region_variant', u'splice_region_variant', u'splice_region_variant', u'splice_region_variant']\n"
     ]
    }
   ],
   "source": [
    "\"\"\"\n",
    "positions = True\n",
    "startPos = 41234400\n",
    "endPos = 41234420\n",
    "chrome='17'\n",
    "\"\"\"\n",
    "\n",
    "searchedVarAnns = c.search_variant_annotations(variant_annotation_set_id=functionalAnnotationSet.id, start=geneList[0]['start'], end=geneList[0]['end'], reference_name=geneList[0]['chrome'], effects=[{'id': geneList[0]['term']}])\n",
    "\n",
    "    \n",
    "\n",
    "idList = []\n",
    "termList = []\n",
    "for annotation in searchedVarAnns:\n",
    "    for i in range(0,len(annotation.transcript_effects)):\n",
    "        for j in range(0,len(annotation.transcript_effects[i].effects)):\n",
    "            termList.append(annotation.transcript_effects[i].effects[j].term)\n",
    "            #print(annotation)\n",
    "            idList.append(annotation.variant_id)\n",
    "\n",
    "#print(idList)\n",
    "print(termList)\n",
    "\n",
    "functionalList = []\n",
    "for i in range(0,len(idList)):\n",
    "    gotten = c.get_variant(idList[i])\n",
    "    functionalDict = collections.OrderedDict()\n",
    "    \n",
    "    functionalDict['start'] = gotten.start\n",
    "    functionalDict['end'] = gotten.end\n",
    "    functionalDict['term'] = termList[i]\n",
    "    functionalDict['chrome'] = gotten.reference_name\n",
    "    \n",
    "    functionalList.append(functionalDict)\n",
    "    \n",
    "#print(functionalDict)\n",
    "#print(functionalList[0]['start'])"
   ]
  },
  {
   "cell_type": "code",
   "execution_count": 5,
   "metadata": {
    "collapsed": false,
    "scrolled": false
   },
   "outputs": [
    {
     "name": "stdout",
     "output_type": "stream",
     "text": [
      "HG00371 has splice_region_variant in gene BRCA1 at position 43111755 to 43111756\n",
      "HG02493 has splice_region_variant in gene BRCA1 at position 43112136 to 43112137\n",
      "HG01250 has splice_region_variant in gene BRCA1 at position 43112141 to 43112142\n",
      "NA18977 has splice_region_variant in gene BRCA1 at position 43112141 to 43112142\n",
      "NA19058 has splice_region_variant in gene BRCA1 at position 43112141 to 43112142\n",
      "NA19074 has splice_region_variant in gene BRCA1 at position 43112141 to 43112142\n",
      "NA19091 has splice_region_variant in gene BRCA1 at position 43112141 to 43112142\n",
      "HG02061 has splice_region_variant in gene BRCA1 at position 43159008 to 43159009\n",
      "HG02397 has splice_region_variant in gene BRCA1 at position 43159008 to 43159009\n"
     ]
    }
   ],
   "source": [
    "for phaseVariantSet in c.search_variant_sets(dataset.id):\n",
    "    if phaseVariantSet.name == \"phase3-release\":\n",
    "        phaseAnnotation = phaseVariantSet\n",
    "\n",
    "allCallSets = list(c.search_call_sets(phaseAnnotation.id))\n",
    "\n",
    "callSetIds = []\n",
    "for callSet in allCallSets:\n",
    "    callSetIds.append(str(callSet.id))\n",
    "\n",
    "phaseAnnotationSetList = []\n",
    "for i in range(0,len(functionalList)):\n",
    "    searchResults = c.search_variants(phaseAnnotation.id, start=functionalList[i]['start'], end=functionalList[i]['end'], reference_name=functionalList[i]['chrome'], call_set_ids=callSetIds)\n",
    "    for results in searchResults:\n",
    "        phaseAnnotationSetList.append(results)\n",
    "        \n",
    "#print(len(phaseAnnotationSetList))\n",
    "\n",
    "\n",
    "for i in range(0,len(phaseAnnotationSetList)):\n",
    "    for j in range(0,len(phaseAnnotationSetList[i].calls)):\n",
    "        if phaseAnnotationSetList[i].calls[j].genotype[0]==1 or phaseAnnotationSetList[i].calls[j].genotype[1]==1:\n",
    "            #print(phaseAnnotationSetList[i].calls[j])\n",
    "        \n",
    "            print unicode(phaseAnnotationSetList[i].calls[j].call_set_name+\" has \"+str(termList[i])+\" in gene \"+geneList[0]['name']+\" at position \"+str(functionalList[i]['start'])+\" to \"+str(functionalList[i]['end']))"
   ]
  }
 ],
 "metadata": {
  "kernelspec": {
   "display_name": "Python 2",
   "language": "python",
   "name": "python2"
  },
  "language_info": {
   "codemirror_mode": {
    "name": "ipython",
    "version": 2
   },
   "file_extension": ".py",
   "mimetype": "text/x-python",
   "name": "python",
   "nbconvert_exporter": "python",
   "pygments_lexer": "ipython2",
   "version": "2.7.11"
  },
  "widgets": {
   "state": {},
   "version": "1.1.1"
  }
 },
 "nbformat": 4,
 "nbformat_minor": 0
}
