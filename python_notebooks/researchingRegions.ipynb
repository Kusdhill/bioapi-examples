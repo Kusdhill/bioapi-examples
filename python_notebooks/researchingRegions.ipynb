{
 "cells": [
  {
   "cell_type": "code",
   "execution_count": 263,
   "metadata": {
    "collapsed": true
   },
   "outputs": [],
   "source": [
    "import ga4gh.client as client\n",
    "c = client.HttpClient(\"http://1kgenomes.ga4gh.org\")\n",
    "\n",
    "import collections"
   ]
  },
  {
   "cell_type": "code",
   "execution_count": 264,
   "metadata": {
    "collapsed": false
   },
   "outputs": [],
   "source": [
    "dataset = c.searchDatasets().next()\n",
    "\n",
    "for functionalVariantSet in c.searchVariantSets(dataset.id):\n",
    "    if functionalVariantSet.name == \"functional-annotation\":\n",
    "        functionalAnnotation = functionalVariantSet\n",
    "\n",
    "functionalAnnotationSet = c.searchVariantAnnotationSets(variantSetId=functionalAnnotation.id).next()"
   ]
  },
  {
   "cell_type": "code",
   "execution_count": 265,
   "metadata": {
    "collapsed": false,
    "scrolled": false
   },
   "outputs": [],
   "source": [
    "startPos = 41234419\n",
    "endPos = 41234421\n",
    "\n",
    "searchedVarAnns = c.searchVariantAnnotations(variantAnnotationSetId=annotationSet.id, start=startPos, end=endPos, referenceName='17')\n",
    "\n",
    "idList = []\n",
    "for annotation in searchedVarAnns:\n",
    "    term = annotation.transcript_effects[0].effects[0].term\n",
    "    idList.append(annotation.variant_id)\n",
    "\n",
    "#print(idList)\n",
    "\n",
    "gotten = c.getVariant(idList[0])\n",
    "\n",
    "functionalDict = collections.OrderedDict()\n",
    "\n",
    "functionalDict['start'] = gotten.start\n",
    "functionalDict['end'] = gotten.end\n",
    "functionalDict['chrome'] = gotten.reference_name"
   ]
  },
  {
   "cell_type": "code",
   "execution_count": 266,
   "metadata": {
    "collapsed": false,
    "scrolled": false
   },
   "outputs": [
    {
     "name": "stdout",
     "output_type": "stream",
     "text": [
      "HG00365 has splice_donor_variant at position 41234419 to 41234420\n"
     ]
    }
   ],
   "source": [
    "for phaseVariantSet in c.searchVariantSets(dataset.id):\n",
    "    if phaseVariantSet.name == \"phase3-release\":\n",
    "        phaseAnnotation = phaseVariantSet\n",
    "\n",
    "allCallSets = list(c.searchCallSets(phaseAnnotation.id))\n",
    "\n",
    "callSetIds = []\n",
    "for callSet in allCallSets:\n",
    "    callSetIds.append(str(callSet.id))\n",
    "\n",
    "phaseAnnotationSet = c.searchVariants(phaseAnnotation.id, start=functionalDict['start'], end=functionalDict['end'], referenceName=functionalDict['chrome'], callSetIds=callSetIds).next()\n",
    "\n",
    "for i in range(0,len(phaseAnnotationSet.calls)):\n",
    "    if phaseAnnotationSet.calls[i].genotype[0]==1 or phaseAnnotationSet.calls[i].genotype[1]==1:\n",
    "        #print(phaseAnnotationSet.calls[i])\n",
    "        \n",
    "        print unicode(phaseAnnotationSet.calls[i].call_set_name+\" has \"+term+\" at position \"+str(functionalDict['start'])+\" to \"+str(functionalDict['end']))"
   ]
  },
  {
   "cell_type": "code",
   "execution_count": null,
   "metadata": {
    "collapsed": true
   },
   "outputs": [],
   "source": []
  }
 ],
 "metadata": {
  "kernelspec": {
   "display_name": "Python 2",
   "language": "python",
   "name": "python2"
  },
  "language_info": {
   "codemirror_mode": {
    "name": "ipython",
    "version": 2
   },
   "file_extension": ".py",
   "mimetype": "text/x-python",
   "name": "python",
   "nbconvert_exporter": "python",
   "pygments_lexer": "ipython2",
   "version": "2.7.11"
  },
  "widgets": {
   "state": {},
   "version": "1.1.1"
  }
 },
 "nbformat": 4,
 "nbformat_minor": 0
}
