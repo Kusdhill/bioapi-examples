{
 "cells": [
  {
   "cell_type": "code",
   "execution_count": 66,
   "metadata": {
    "collapsed": true
   },
   "outputs": [],
   "source": [
    "import ga4gh.client as client\n",
    "c = client.HttpClient(\"http://1kgenomes.ga4gh.org\")\n",
    "\n",
    "import collections"
   ]
  },
  {
   "cell_type": "code",
   "execution_count": 67,
   "metadata": {
    "collapsed": false
   },
   "outputs": [],
   "source": [
    "dataset = c.searchDatasets().next()\n",
    "\n",
    "for functionalVariantSet in c.searchVariantSets(dataset.id):\n",
    "    if functionalVariantSet.name == \"functional-annotation\":\n",
    "        functionalAnnotation = functionalVariantSet\n",
    "\n",
    "functionalAnnotationSet = c.searchVariantAnnotationSets(variantSetId=functionalAnnotation.id).next()"
   ]
  },
  {
   "cell_type": "code",
   "execution_count": 76,
   "metadata": {
    "collapsed": false,
    "scrolled": false
   },
   "outputs": [
    {
     "name": "stdout",
     "output_type": "stream",
     "text": [
      "[u'missense_variant', u'synonymous_variant', u'intron_variant', u'intron_variant', u'intron_variant', u'intron_variant', u'intron_variant', u'feature_elongation']\n",
      "41234480\n"
     ]
    }
   ],
   "source": [
    "startPos = 41234475\n",
    "endPos = 41234800\n",
    "chrome='17'\n",
    "\n",
    "searchedVarAnns = c.searchVariantAnnotations(variantAnnotationSetId=functionalAnnotationSet.id, start=startPos, end=endPos, referenceName=chrome)\n",
    "\n",
    "idList = []\n",
    "termList = []\n",
    "for annotation in searchedVarAnns:\n",
    "    for i in range(0,len(annotation.transcript_effects)):\n",
    "        for j in range(0,len(annotation.transcript_effects[i].effects)):\n",
    "            termList.append(annotation.transcript_effects[i].effects[j].term)\n",
    "            #print(annotation)\n",
    "            idList.append(annotation.variant_id)\n",
    "\n",
    "#print(idList)\n",
    "print(termList)\n",
    "\n",
    "functionalList = []\n",
    "for i in range(0,len(idList)):\n",
    "    gotten = c.getVariant(idList[i])\n",
    "    functionalDict = collections.OrderedDict()\n",
    "    \n",
    "    functionalDict['start'] = gotten.start\n",
    "    functionalDict['end'] = gotten.end\n",
    "    functionalDict['term'] = termList[i]\n",
    "    functionalDict['chrome'] = gotten.reference_name\n",
    "    \n",
    "    functionalList.append(functionalDict)\n",
    "    \n",
    "#print(functionalDict)\n",
    "print(functionalList[0]['start'])"
   ]
  },
  {
   "cell_type": "code",
   "execution_count": 77,
   "metadata": {
    "collapsed": false,
    "scrolled": false
   },
   "outputs": [
    {
     "name": "stdout",
     "output_type": "stream",
     "text": [
      "HG02010 has missense_variant at position 41234480 to 41234481\n",
      "HG03753 has synonymous_variant at position 41234505 to 41234506\n",
      "HG03021 has intron_variant at position 41234601 to 41234602\n",
      "HG03491 has intron_variant at position 41234601 to 41234602\n",
      "HG02571 has intron_variant at position 41234682 to 41234683\n",
      "HG03126 has intron_variant at position 41234692 to 41234693\n",
      "HG03163 has intron_variant at position 41234692 to 41234693\n",
      "HG03202 has intron_variant at position 41234692 to 41234693\n",
      "NA18858 has intron_variant at position 41234692 to 41234693\n",
      "NA18870 has intron_variant at position 41234692 to 41234693\n",
      "NA20530 has intron_variant at position 41234719 to 41234720\n",
      "HG00449 has intron_variant at position 41234796 to 41234797\n",
      "HG00598 has intron_variant at position 41234796 to 41234797\n",
      "HG01852 has intron_variant at position 41234796 to 41234797\n",
      "HG01853 has intron_variant at position 41234796 to 41234797\n",
      "HG02057 has intron_variant at position 41234796 to 41234797\n",
      "HG02356 has intron_variant at position 41234796 to 41234797\n",
      "HG04171 has intron_variant at position 41234796 to 41234797\n",
      "HG04227 has intron_variant at position 41234796 to 41234797\n",
      "NA18608 has intron_variant at position 41234796 to 41234797\n",
      "HG00449 has feature_elongation at position 41234796 to 41234797\n",
      "HG00598 has feature_elongation at position 41234796 to 41234797\n",
      "HG01852 has feature_elongation at position 41234796 to 41234797\n",
      "HG01853 has feature_elongation at position 41234796 to 41234797\n",
      "HG02057 has feature_elongation at position 41234796 to 41234797\n",
      "HG02356 has feature_elongation at position 41234796 to 41234797\n",
      "HG04171 has feature_elongation at position 41234796 to 41234797\n",
      "HG04227 has feature_elongation at position 41234796 to 41234797\n",
      "NA18608 has feature_elongation at position 41234796 to 41234797\n"
     ]
    }
   ],
   "source": [
    "for phaseVariantSet in c.searchVariantSets(dataset.id):\n",
    "    if phaseVariantSet.name == \"phase3-release\":\n",
    "        phaseAnnotation = phaseVariantSet\n",
    "\n",
    "allCallSets = list(c.searchCallSets(phaseAnnotation.id))\n",
    "\n",
    "callSetIds = []\n",
    "for callSet in allCallSets:\n",
    "    callSetIds.append(str(callSet.id))\n",
    "\n",
    "phaseAnnotationSetList = []\n",
    "for i in range(0,len(functionalList)):\n",
    "    phaseAnnotationSetList.append(c.searchVariants(phaseAnnotation.id, start=functionalList[i]['start'], end=functionalList[i]['end'], referenceName=functionalList[i]['chrome'], callSetIds=callSetIds).next())\n",
    "\n",
    "\n",
    "for i in range(0,len(phaseAnnotationSetList)):\n",
    "    for j in range(0,len(phaseAnnotationSetList[i].calls)):\n",
    "        if phaseAnnotationSetList[i].calls[j].genotype[0]==1 or phaseAnnotationSetList[i].calls[j].genotype[1]==1:\n",
    "            #print(phaseAnnotationSetList[i].calls[j])\n",
    "        \n",
    "            print unicode(phaseAnnotationSetList[i].calls[j].call_set_name+\" has \"+str(termList[i])+\" at position \"+str(functionalList[i]['start'])+\" to \"+str(functionalList[i]['end']))"
   ]
  }
 ],
 "metadata": {
  "kernelspec": {
   "display_name": "Python 2",
   "language": "python",
   "name": "python2"
  },
  "language_info": {
   "codemirror_mode": {
    "name": "ipython",
    "version": 2
   },
   "file_extension": ".py",
   "mimetype": "text/x-python",
   "name": "python",
   "nbconvert_exporter": "python",
   "pygments_lexer": "ipython2",
   "version": "2.7.11"
  },
  "widgets": {
   "state": {},
   "version": "1.1.1"
  }
 },
 "nbformat": 4,
 "nbformat_minor": 0
}
